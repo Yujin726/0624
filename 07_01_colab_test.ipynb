{
  "nbformat": 4,
  "nbformat_minor": 0,
  "metadata": {
    "colab": {
      "provenance": [],
      "authorship_tag": "ABX9TyN++ZQ1LceEpzxSuQBMl34k",
      "include_colab_link": true
    },
    "kernelspec": {
      "name": "python3",
      "display_name": "Python 3"
    },
    "language_info": {
      "name": "python"
    }
  },
  "cells": [
    {
      "cell_type": "markdown",
      "metadata": {
        "id": "view-in-github",
        "colab_type": "text"
      },
      "source": [
        "<a href=\"https://colab.research.google.com/github/Yujin726/0624/blob/main/07_01_colab_test.ipynb\" target=\"_parent\"><img src=\"https://colab.research.google.com/assets/colab-badge.svg\" alt=\"Open In Colab\"/></a>"
      ]
    },
    {
      "cell_type": "markdown",
      "source": [
        "1번 flowchart : 센서 초기화 함수"
      ],
      "metadata": {
        "id": "CAC_AT09YkPx"
      }
    },
    {
      "cell_type": "code",
      "execution_count": 1,
      "metadata": {
        "colab": {
          "base_uri": "https://localhost:8080/"
        },
        "id": "eS91O5M-XkYY",
        "outputId": "7d05aacb-2237-46c8-a277-3523e0b608c1"
      },
      "outputs": [
        {
          "output_type": "stream",
          "name": "stdout",
          "text": [
            "센서 초기화: {'앞': 15.0, '왼쪽': 15.0, '오른쪽': 15.0}\n"
          ]
        }
      ],
      "source": [
        "def init_sensors():\n",
        "    sensors = {\n",
        "        \"앞\": 15.0,\n",
        "        \"왼쪽\": 15.0,\n",
        "        \"오른쪽\": 15.0\n",
        "    }\n",
        "    print(\"센서 초기화:\", sensors)\n",
        "    return sensors\n",
        "if __name__ == \"__main__\":\n",
        "    sensor_data = init_sensors()\n"
      ]
    },
    {
      "cell_type": "markdown",
      "source": [
        "2번 flowchart : 앞쪽 장애물 확인"
      ],
      "metadata": {
        "id": "Kt6XqB-pYyU9"
      }
    },
    {
      "cell_type": "code",
      "source": [
        "def scan_front(x, y, obstacles, sensors):\n",
        "    print(\"2-02 앞쪽 스캔 시작\")\n",
        "\n",
        "    # 조건 1: 1칸 앞에 장애물 확인\n",
        "    if (x, y + 1) in obstacles:\n",
        "        print(\"2-06 앞쪽 1칸 장애물 발견\")\n",
        "        sensors[\"앞\"] = 1.0\n",
        "\n",
        "    # 조건 2: 2칸 \"\n",
        "    elif (x, y + 2) in obstacles:\n",
        "        print(\"2-11 앞쪽 2칸 장애물 발견\")\n",
        "        sensors[\"앞\"] = 2.0\n",
        "\n",
        "    # 조건 3: 3칸 \"\n",
        "    elif (x, y + 3) in obstacles:\n",
        "        print(\"2-16 앞쪽 3칸 장애물 발견\")\n",
        "        sensors[\"앞\"] = 3.0\n",
        "\n",
        "    # 조건 1~3 모두 장애물 없을 경우\n",
        "    else:\n",
        "        print(\"2-21 앞쪽 장애물 없음, 센서값 15.0 유지\")\n",
        "        sensors[\"앞\"] = 15.0\n",
        "\n",
        "    print(\"2-24 앞쪽 스캔 완료\")"
      ],
      "metadata": {
        "id": "iBIgqF94Y0Hq"
      },
      "execution_count": 2,
      "outputs": []
    },
    {
      "cell_type": "markdown",
      "source": [
        "3번 flowchart : 왼쪽 장애물 확인"
      ],
      "metadata": {
        "id": "056A-9k0isy3"
      }
    },
    {
      "cell_type": "code",
      "source": [
        "def scan_front(x, y, obstacles, sensors):\n",
        "    print(\"3-02 왼쪽 스캔 시작\")\n",
        "\n",
        "    # 조건 1: 왼쪽 1칸 장애물 확인\n",
        "    if (x - 1, y) in obstacles:\n",
        "        print(\"3-06 왼쪽 1칸 장애물 발견\")\n",
        "        sensors[\"왼쪽\"] = 1.0\n",
        "\n",
        "    # 조건 2: 2칸 \"\n",
        "    elif (x - 2, y) in obstacles:\n",
        "        print(\"3-11 왼쪽 2칸 장애물 발견\")\n",
        "        sensors[\"왼쪽\"] = 2.0\n",
        "\n",
        "    # 조건 3: 3칸 \"\n",
        "    elif (x- 3, y) in obstacles:\n",
        "        print(\"3-16 왼쪽 3칸 장애물 발견\")\n",
        "        sensors[\"왼쪽\"] = 3.0\n",
        "\n",
        "    # 조건 1~3 모두 장애물 없을 경우\n",
        "    else:\n",
        "        print(\"3-21 왼쪽 장애물 없음, 센서값 15.0 유지\")\n",
        "        sensors[\"왼쪽\"] = 15.0\n",
        "\n",
        "    print(\"3-24 왼쪽 스캔 완료\")"
      ],
      "metadata": {
        "id": "xfhwXkh2ishT"
      },
      "execution_count": 3,
      "outputs": []
    }
  ]
}