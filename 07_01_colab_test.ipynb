{
  "nbformat": 4,
  "nbformat_minor": 0,
  "metadata": {
    "colab": {
      "provenance": [],
      "gpuType": "T4",
      "authorship_tag": "ABX9TyNrzdetaor+jwm8V5pd9JM6",
      "include_colab_link": true
    },
    "kernelspec": {
      "name": "python3",
      "display_name": "Python 3"
    },
    "language_info": {
      "name": "python"
    },
    "accelerator": "GPU"
  },
  "cells": [
    {
      "cell_type": "markdown",
      "metadata": {
        "id": "view-in-github",
        "colab_type": "text"
      },
      "source": [
        "<a href=\"https://colab.research.google.com/github/Yujin726/0624/blob/main/07_01_colab_test.ipynb\" target=\"_parent\"><img src=\"https://colab.research.google.com/assets/colab-badge.svg\" alt=\"Open In Colab\"/></a>"
      ]
    },
    {
      "cell_type": "markdown",
      "source": [
        "1번 flowchart : 센서 초기화 함수"
      ],
      "metadata": {
        "id": "CAC_AT09YkPx"
      }
    },
    {
      "cell_type": "code",
      "execution_count": 1,
      "metadata": {
        "colab": {
          "base_uri": "https://localhost:8080/"
        },
        "id": "eS91O5M-XkYY",
        "outputId": "fcfcce81-dafe-4cde-a9a8-fa9557a8b910"
      },
      "outputs": [
        {
          "output_type": "stream",
          "name": "stdout",
          "text": [
            "센서 초기화: {'앞': 15.0, '왼쪽': 15.0, '오른쪽': 15.0}\n"
          ]
        }
      ],
      "source": [
        "def init_sensors():\n",
        "    sensors = {\n",
        "        \"앞\": 15.0,\n",
        "        \"왼쪽\": 15.0,\n",
        "        \"오른쪽\": 15.0\n",
        "    }\n",
        "    print(\"센서 초기화:\", sensors)\n",
        "    return sensors\n",
        "if __name__ == \"__main__\":\n",
        "    sensor_data = init_sensors()\n"
      ]
    },
    {
      "cell_type": "markdown",
      "source": [
        "2번 flowchart : 앞쪽 장애물 확인"
      ],
      "metadata": {
        "id": "Kt6XqB-pYyU9"
      }
    },
    {
      "cell_type": "code",
      "source": [
        "def scan_front(x, y, obstacles, sensors):\n",
        "    print(\"2-02 앞쪽 스캔 시작\")\n",
        "\n",
        "    # 조건 1: 1칸 앞에 장애물 확인\n",
        "    if (x, y + 1) in obstacles:\n",
        "        print(\"2-06 앞쪽 1칸 장애물 발견\")\n",
        "        sensors[\"앞\"] = 1.0\n",
        "\n",
        "    # 조건 2: 2칸 \"\n",
        "    elif (x, y + 2) in obstacles:\n",
        "        print(\"2-11 앞쪽 2칸 장애물 발견\")\n",
        "        sensors[\"앞\"] = 2.0\n",
        "\n",
        "    # 조건 3: 3칸 \"\n",
        "    elif (x, y + 3) in obstacles:\n",
        "        print(\"2-16 앞쪽 3칸 장애물 발견\")\n",
        "        sensors[\"앞\"] = 3.0\n",
        "\n",
        "    # 조건 1~3 모두 장애물 없을 경우\n",
        "    else:\n",
        "        print(\"2-21 앞쪽 장애물 없음, 센서값 15.0 유지\")\n",
        "        sensors[\"앞\"] = 15.0\n",
        "\n",
        "    print(\"2-24 앞쪽 스캔 완료\")"
      ],
      "metadata": {
        "id": "iBIgqF94Y0Hq"
      },
      "execution_count": 2,
      "outputs": []
    },
    {
      "cell_type": "markdown",
      "source": [
        "3번 flowchart : 왼쪽 장애물 확인"
      ],
      "metadata": {
        "id": "056A-9k0isy3"
      }
    },
    {
      "cell_type": "code",
      "source": [
        "def scan_front(x, y, obstacles, sensors):\n",
        "    print(\"3-02 왼쪽 스캔 시작\")\n",
        "\n",
        "    # 조건 1: 왼쪽 1칸 장애물 확인\n",
        "    if (x - 1, y) in obstacles:\n",
        "        print(\"3-06 왼쪽 1칸 장애물 발견\")\n",
        "        sensors[\"왼쪽\"] = 1.0\n",
        "\n",
        "    # 조건 2: 2칸 \"\n",
        "    elif (x - 2, y) in obstacles:\n",
        "        print(\"3-11 왼쪽 2칸 장애물 발견\")\n",
        "        sensors[\"왼쪽\"] = 2.0\n",
        "\n",
        "    # 조건 3: 3칸 \"\n",
        "    elif (x- 3, y) in obstacles:\n",
        "        print(\"3-16 왼쪽 3칸 장애물 발견\")\n",
        "        sensors[\"왼쪽\"] = 3.0\n",
        "\n",
        "    # 조건 1~3 모두 장애물 없을 경우\n",
        "    else:\n",
        "        print(\"3-21 왼쪽 장애물 없음, 센서값 15.0 유지\")\n",
        "        sensors[\"왼쪽\"] = 15.0\n",
        "\n",
        "    print(\"3-24 왼쪽 스캔 완료\")"
      ],
      "metadata": {
        "id": "xfhwXkh2ishT"
      },
      "execution_count": 3,
      "outputs": []
    },
    {
      "cell_type": "markdown",
      "source": [
        "5번 flowchart: 센서 데이터 업데이트 함수 (디버그 print 포함)"
      ],
      "metadata": {
        "id": "DhxoVgOKoYVM"
      }
    },
    {
      "cell_type": "code",
      "source": [
        "# 센서 초기화 함수\n",
        "def init_sensors():\n",
        "    sensors = {\n",
        "        \"앞\": 15.0,\n",
        "        \"왼쪽\": 15.0,\n",
        "        \"오른쪽\": 15.0\n",
        "    }\n",
        "    print(\"센서 초기화 완료:\", sensors)\n",
        "    return sensors\n",
        "\n",
        "\n",
        "# 앞쪽 스캔 함수\n",
        "def scan_front(x, y, obstacles, sensors):\n",
        "    print(\"2-14 앞쪽 스캔 시작\")\n",
        "\n",
        "    if (x, y + 1) in obstacles:\n",
        "        print(\"2-17 앞쪽 1칸 장애물 발견\")\n",
        "        sensors[\"앞\"] = 1.0\n",
        "    elif (x, y + 2) in obstacles:\n",
        "        print(\"2-20 앞쪽 2칸 장애물 발견\")\n",
        "        sensors[\"앞\"] = 2.0\n",
        "    elif (x, y + 3) in obstacles:\n",
        "        print(\"2-23 앞쪽 3칸 장애물 발견\")\n",
        "        sensors[\"앞\"] = 3.0\n",
        "    else:\n",
        "        print(\"2-26 앞쪽 장애물 없음, 센서값 15.0 유지\")\n",
        "        sensors[\"앞\"] = 15.0\n",
        "\n",
        "    print(\"2-29 앞쪽 스캔 완료\")\n",
        "\n",
        "\n",
        "# 왼쪽 스캔 함수\n",
        "def scan_left(x, y, obstacles, sensors):\n",
        "    print(\"3-34 왼쪽 스캔 시작\")\n",
        "\n",
        "    if (x - 1, y) in obstacles:\n",
        "        print(\"3-37 왼쪽 1칸 장애물 발견\")\n",
        "        sensors[\"왼쪽\"] = 1.0\n",
        "    elif (x - 2, y) in obstacles:\n",
        "        print(\"3-40 왼쪽 2칸 장애물 발견\")\n",
        "        sensors[\"왼쪽\"] = 2.0\n",
        "    elif (x - 3, y) in obstacles:\n",
        "        print(\"3-43 왼쪽 3칸 장애물 발견\")\n",
        "        sensors[\"왼쪽\"] = 3.0\n",
        "    else:\n",
        "        print(\"3-46 왼쪽 장애물 없음, 센서값 15.0 유지\")\n",
        "        sensors[\"왼쪽\"] = 15.0\n",
        "\n",
        "    print(\"3-49 왼쪽 스캔 완료\")\n",
        "\n",
        "\n",
        "# 오른쪽 스캔 함수 (직접 작성)\n",
        "def scan_right(x, y, obstacles, sensors):\n",
        "    print(\"4-54 오른쪽 스캔 시작\")\n",
        "\n",
        "    if (x + 1, y) in obstacles:\n",
        "        print(\"4-57 오른쪽 1칸 장애물 발견\")\n",
        "        sensors[\"오른쪽\"] = 1.0\n",
        "    elif (x + 2, y) in obstacles:\n",
        "        print(\"4-60 오른쪽 2칸 장애물 발견\")\n",
        "        sensors[\"오른쪽\"] = 2.0\n",
        "    elif (x + 3, y) in obstacles:\n",
        "        print(\"4-63 오른쪽 3칸 장애물 발견\")\n",
        "        sensors[\"오른쪽\"] = 3.0\n",
        "    else:\n",
        "        print(\"4-66 오른쪽 장애물 없음, 센서값 15.0 유지\")\n",
        "        sensors[\"오른쪽\"] = 15.0\n",
        "\n",
        "    print(\"4-69 오른쪽 스캔 완료\")\n",
        "\n",
        "\n",
        "# 센서 데이터 업데이트 함수\n",
        "def update_sensor_data(position, obstacles):\n",
        "    print(\"5-74 함수 시작\")\n",
        "\n",
        "    # 위치 데이터 추출\n",
        "    x = position[\"x\"]\n",
        "    y = position[\"y\"]\n",
        "    print(\"5-79 위치 추출 완료\")\n",
        "    print(f\"5-80 현재 위치: x={x}, y={y}\")\n",
        "\n",
        "    # 센서 초기화\n",
        "    sensors = init_sensors()\n",
        "\n",
        "    # 방향별 스캔 실행\n",
        "    scan_front(x, y, obstacles, sensors)\n",
        "    scan_left(x, y, obstacles, sensors)\n",
        "    scan_right(x, y, obstacles, sensors)\n",
        "\n",
        "    print(\"5-90 센서 업데이트 완료\")\n",
        "    print(\"최종 센서 데이터:\", sensors)\n",
        "\n",
        "    return sensors\n"
      ],
      "metadata": {
        "id": "t252x-baqWJO"
      },
      "execution_count": 4,
      "outputs": []
    },
    {
      "cell_type": "markdown",
      "source": [
        "5번 + 예시 실행 코드 포함"
      ],
      "metadata": {
        "id": "Ghxz5kTrql64"
      }
    },
    {
      "cell_type": "code",
      "source": [
        "# 센서 초기화 함수\n",
        "def init_sensors():\n",
        "    sensors = {\n",
        "        \"앞\": 15.0,\n",
        "        \"왼쪽\": 15.0,\n",
        "        \"오른쪽\": 15.0\n",
        "    }\n",
        "    print(\"센서 초기화 완료:\", sensors)\n",
        "    return sensors\n",
        "\n",
        "\n",
        "# 앞쪽 스캔 함수\n",
        "def scan_front(x, y, obstacles, sensors):\n",
        "    print(\"2-14 앞쪽 스캔 시작\")\n",
        "\n",
        "    if (x, y + 1) in obstacles:\n",
        "        print(\"2-17 앞쪽 1칸 장애물 발견\")\n",
        "        sensors[\"앞\"] = 1.0\n",
        "    elif (x, y + 2) in obstacles:\n",
        "        print(\"2-20 앞쪽 2칸 장애물 발견\")\n",
        "        sensors[\"앞\"] = 2.0\n",
        "    elif (x, y + 3) in obstacles:\n",
        "        print(\"2-23 앞쪽 3칸 장애물 발견\")\n",
        "        sensors[\"앞\"] = 3.0\n",
        "    else:\n",
        "        print(\"2-26 앞쪽 장애물 없음, 센서값 15.0 유지\")\n",
        "        sensors[\"앞\"] = 15.0\n",
        "\n",
        "    print(\"2-29 앞쪽 스캔 완료\")\n",
        "\n",
        "\n",
        "# 왼쪽 스캔 함수\n",
        "def scan_left(x, y, obstacles, sensors):\n",
        "    print(\"3-34 왼쪽 스캔 시작\")\n",
        "\n",
        "    if (x - 1, y) in obstacles:\n",
        "        print(\"3-37 왼쪽 1칸 장애물 발견\")\n",
        "        sensors[\"왼쪽\"] = 1.0\n",
        "    elif (x - 2, y) in obstacles:\n",
        "        print(\"3-40 왼쪽 2칸 장애물 발견\")\n",
        "        sensors[\"왼쪽\"] = 2.0\n",
        "    elif (x - 3, y) in obstacles:\n",
        "        print(\"3-43 왼쪽 3칸 장애물 발견\")\n",
        "        sensors[\"왼쪽\"] = 3.0\n",
        "    else:\n",
        "        print(\"3-46 왼쪽 장애물 없음, 센서값 15.0 유지\")\n",
        "        sensors[\"왼쪽\"] = 15.0\n",
        "\n",
        "    print(\"3-49 왼쪽 스캔 완료\")\n",
        "\n",
        "\n",
        "# 오른쪽 스캔 함수\n",
        "def scan_right(x, y, obstacles, sensors):\n",
        "    print(\"4-54 오른쪽 스캔 시작\")\n",
        "\n",
        "    if (x + 1, y) in obstacles:\n",
        "        print(\"4-57 오른쪽 1칸 장애물 발견\")\n",
        "        sensors[\"오른쪽\"] = 1.0\n",
        "    elif (x + 2, y) in obstacles:\n",
        "        print(\"4-60 오른쪽 2칸 장애물 발견\")\n",
        "        sensors[\"오른쪽\"] = 2.0\n",
        "    elif (x + 3, y) in obstacles:\n",
        "        print(\"4-63 오른쪽 3칸 장애물 발견\")\n",
        "        sensors[\"오른쪽\"] = 3.0\n",
        "    else:\n",
        "        print(\"4-66 오른쪽 장애물 없음, 센서값 15.0 유지\")\n",
        "        sensors[\"오른쪽\"] = 15.0\n",
        "\n",
        "    print(\"4-69 오른쪽 스캔 완료\")\n",
        "\n",
        "\n",
        "# 센서 데이터 업데이트 함수\n",
        "def update_sensor_data(position, obstacles):\n",
        "    print(\"5-74 함수 시작\")\n",
        "\n",
        "    # 위치 데이터 추출\n",
        "    x = position[\"x\"]\n",
        "    y = position[\"y\"]\n",
        "    print(\"5-79 위치 추출 완료\")\n",
        "    print(f\"5-80 현재 위치: x={x}, y={y}\")\n",
        "\n",
        "    # 센서 초기화\n",
        "    sensors = init_sensors()\n",
        "\n",
        "    # 방향별 스캔 실행\n",
        "    scan_front(x, y, obstacles, sensors)\n",
        "    scan_left(x, y, obstacles, sensors)\n",
        "    scan_right(x, y, obstacles, sensors)\n",
        "\n",
        "    print(\"5-90 센서 업데이트 완료\")\n",
        "    print(\"최종 센서 데이터:\", sensors)\n",
        "\n",
        "    return sensors\n",
        "\n",
        "\n",
        "# ✅ 예시 실행 코드\n",
        "if __name__ == \"__main__\":\n",
        "    # 현재 위치 지정\n",
        "    position = {\"x\": 5, \"y\": 5}\n",
        "\n",
        "    # 장애물 좌표 설정 (앞, 왼쪽, 오른쪽에 각각 1칸 거리 장애물 존재)\n",
        "    obstacles = [\n",
        "        (5, 6),   # 앞 1칸\n",
        "        (4, 5),   # 왼쪽 1칸\n",
        "        (6, 5)    # 오른쪽 1칸\n",
        "    ]\n",
        "\n",
        "    # 센서 업데이트 실행\n",
        "    final_sensors = update_sensor_data(position, obstacles)\n",
        "\n",
        "    # 최종 결과 출력\n",
        "    print(\"\\n📌 최종 센서 값:\", final_sensors)\n"
      ],
      "metadata": {
        "colab": {
          "base_uri": "https://localhost:8080/"
        },
        "id": "87EUahBdq7w-",
        "outputId": "57f0c87f-1032-4784-8a7e-edecf2b32405"
      },
      "execution_count": 5,
      "outputs": [
        {
          "output_type": "stream",
          "name": "stdout",
          "text": [
            "5-74 함수 시작\n",
            "5-79 위치 추출 완료\n",
            "5-80 현재 위치: x=5, y=5\n",
            "센서 초기화 완료: {'앞': 15.0, '왼쪽': 15.0, '오른쪽': 15.0}\n",
            "2-14 앞쪽 스캔 시작\n",
            "2-17 앞쪽 1칸 장애물 발견\n",
            "2-29 앞쪽 스캔 완료\n",
            "3-34 왼쪽 스캔 시작\n",
            "3-37 왼쪽 1칸 장애물 발견\n",
            "3-49 왼쪽 스캔 완료\n",
            "4-54 오른쪽 스캔 시작\n",
            "4-57 오른쪽 1칸 장애물 발견\n",
            "4-69 오른쪽 스캔 완료\n",
            "5-90 센서 업데이트 완료\n",
            "최종 센서 데이터: {'앞': 1.0, '왼쪽': 1.0, '오른쪽': 1.0}\n",
            "\n",
            "📌 최종 센서 값: {'앞': 1.0, '왼쪽': 1.0, '오른쪽': 1.0}\n"
          ]
        }
      ]
    }
  ]
}