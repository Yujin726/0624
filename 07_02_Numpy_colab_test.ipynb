{
  "nbformat": 4,
  "nbformat_minor": 0,
  "metadata": {
    "colab": {
      "provenance": [],
      "gpuType": "T4",
      "authorship_tag": "ABX9TyOmkw6/AKeP6QUo9SShHhBM",
      "include_colab_link": true
    },
    "kernelspec": {
      "name": "python3",
      "display_name": "Python 3"
    },
    "language_info": {
      "name": "python"
    },
    "accelerator": "GPU"
  },
  "cells": [
    {
      "cell_type": "markdown",
      "metadata": {
        "id": "view-in-github",
        "colab_type": "text"
      },
      "source": [
        "<a href=\"https://colab.research.google.com/github/Yujin726/0624/blob/main/07_02_Numpy_colab_test.ipynb\" target=\"_parent\"><img src=\"https://colab.research.google.com/assets/colab-badge.svg\" alt=\"Open In Colab\"/></a>"
      ]
    },
    {
      "cell_type": "markdown",
      "source": [
        "# 📘 w3schools NumPy 튜토리얼"
      ],
      "metadata": {
        "id": "42ShDbRy1VGA"
      }
    },
    {
      "cell_type": "markdown",
      "source": [
        "##**1. NumPy 시작하기**"
      ],
      "metadata": {
        "id": "5-f9kTS11f_s"
      }
    },
    {
      "cell_type": "markdown",
      "source": [
        "(1) NumPy 가져오기\n",
        "\n",
        "NumPy가 설치되면 키워드를 추가하여 응용 프로그램에 가져옵니다."
      ],
      "metadata": {
        "id": "spzYzGRv3EpP"
      }
    },
    {
      "cell_type": "code",
      "execution_count": 2,
      "metadata": {
        "id": "3XylpJ0Wv46K"
      },
      "outputs": [],
      "source": [
        "import numpy"
      ]
    },
    {
      "cell_type": "markdown",
      "source": [
        "(2) NumPy를 np로"
      ],
      "metadata": {
        "id": "bUK9_wwC3lbT"
      }
    },
    {
      "cell_type": "code",
      "source": [
        "import numpy as np"
      ],
      "metadata": {
        "id": "yGNza-Qr3l-_"
      },
      "execution_count": 3,
      "outputs": []
    },
    {
      "cell_type": "markdown",
      "source": [
        "\n",
        "(3) NumPy 버전 확인\n"
      ],
      "metadata": {
        "id": "nGYensUO3tot"
      }
    },
    {
      "cell_type": "code",
      "source": [
        "import numpy as np\n",
        "print(np.__version__)"
      ],
      "metadata": {
        "colab": {
          "base_uri": "https://localhost:8080/"
        },
        "id": "x-kGMnUm3uZQ",
        "outputId": "83652da2-d1e1-49d7-a8e9-f393a1291e18"
      },
      "execution_count": 4,
      "outputs": [
        {
          "output_type": "stream",
          "name": "stdout",
          "text": [
            "2.0.2\n"
          ]
        }
      ]
    }
  ]
}