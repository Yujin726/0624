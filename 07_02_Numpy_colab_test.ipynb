{
  "nbformat": 4,
  "nbformat_minor": 0,
  "metadata": {
    "colab": {
      "provenance": [],
      "gpuType": "T4",
      "authorship_tag": "ABX9TyNBfr4razcz/zqQJG1sCv0o",
      "include_colab_link": true
    },
    "kernelspec": {
      "name": "python3",
      "display_name": "Python 3"
    },
    "language_info": {
      "name": "python"
    },
    "accelerator": "GPU"
  },
  "cells": [
    {
      "cell_type": "markdown",
      "metadata": {
        "id": "view-in-github",
        "colab_type": "text"
      },
      "source": [
        "<a href=\"https://colab.research.google.com/github/Yujin726/0624/blob/main/07_02_Numpy_colab_test.ipynb\" target=\"_parent\"><img src=\"https://colab.research.google.com/assets/colab-badge.svg\" alt=\"Open In Colab\"/></a>"
      ]
    },
    {
      "cell_type": "markdown",
      "source": [
        "# 📘 w3schools NumPy 튜토리얼"
      ],
      "metadata": {
        "id": "42ShDbRy1VGA"
      }
    },
    {
      "cell_type": "markdown",
      "source": [
        "##**1. NumPy 시작하기**"
      ],
      "metadata": {
        "id": "5-f9kTS11f_s"
      }
    },
    {
      "cell_type": "markdown",
      "source": [
        "(1) NumPy 가져오기\n",
        "\n",
        "NumPy가 설치되면 키워드를 추가하여 응용 프로그램에 가져옵니다."
      ],
      "metadata": {
        "id": "spzYzGRv3EpP"
      }
    },
    {
      "cell_type": "code",
      "execution_count": 1,
      "metadata": {
        "id": "3XylpJ0Wv46K"
      },
      "outputs": [],
      "source": [
        "import numpy"
      ]
    },
    {
      "cell_type": "markdown",
      "source": [
        "(2) NumPy를 np로"
      ],
      "metadata": {
        "id": "bUK9_wwC3lbT"
      }
    },
    {
      "cell_type": "code",
      "source": [
        "import numpy as np"
      ],
      "metadata": {
        "id": "yGNza-Qr3l-_"
      },
      "execution_count": 2,
      "outputs": []
    },
    {
      "cell_type": "markdown",
      "source": [
        "\n",
        "(3) NumPy 버전 확인\n"
      ],
      "metadata": {
        "id": "nGYensUO3tot"
      }
    },
    {
      "cell_type": "code",
      "source": [
        "import numpy as np\n",
        "print(np.__version__)"
      ],
      "metadata": {
        "colab": {
          "base_uri": "https://localhost:8080/"
        },
        "id": "x-kGMnUm3uZQ",
        "outputId": "6b4081ba-25ae-448b-96dd-e1cb48801b33"
      },
      "execution_count": 3,
      "outputs": [
        {
          "output_type": "stream",
          "name": "stdout",
          "text": [
            "2.0.2\n"
          ]
        }
      ]
    },
    {
      "cell_type": "markdown",
      "source": [
        "##**2. NumPy배열 만들기**"
      ],
      "metadata": {
        "id": "1b_Apjvzc3AN"
      }
    },
    {
      "cell_type": "markdown",
      "source": [
        "(1) NumPy ndarray 객체 만들기"
      ],
      "metadata": {
        "id": "X1cgrF24dWxV"
      }
    },
    {
      "cell_type": "code",
      "source": [
        "import numpy as np\n",
        "\n",
        "arr = np.array([1, 2, 3, 4, 5])\n",
        "\n",
        "print(arr)\n",
        "\n",
        "print(type(arr))"
      ],
      "metadata": {
        "colab": {
          "base_uri": "https://localhost:8080/"
        },
        "id": "r5F8ulBCdT58",
        "outputId": "02c9e6c0-100b-47a7-c0d6-0b962319b420"
      },
      "execution_count": 4,
      "outputs": [
        {
          "output_type": "stream",
          "name": "stdout",
          "text": [
            "[1 2 3 4 5]\n",
            "<class 'numpy.ndarray'>\n"
          ]
        }
      ]
    },
    {
      "cell_type": "markdown",
      "source": [
        "(2) 배열의 차원"
      ],
      "metadata": {
        "id": "u5edOpQmdaML"
      }
    },
    {
      "cell_type": "markdown",
      "source": [
        "1) 0차원 배열"
      ],
      "metadata": {
        "id": "J5dzvsIjdqsQ"
      }
    },
    {
      "cell_type": "code",
      "source": [
        "import numpy as np\n",
        "\n",
        "arr = np.array(42)\n",
        "\n",
        "print(arr)"
      ],
      "metadata": {
        "colab": {
          "base_uri": "https://localhost:8080/"
        },
        "id": "b6-fUj28dzGg",
        "outputId": "302d4f6e-0393-415b-d983-07254d2b5e79"
      },
      "execution_count": 5,
      "outputs": [
        {
          "output_type": "stream",
          "name": "stdout",
          "text": [
            "42\n"
          ]
        }
      ]
    },
    {
      "cell_type": "markdown",
      "source": [
        "2) 1차원 배열"
      ],
      "metadata": {
        "id": "pO50msz3eGjP"
      }
    },
    {
      "cell_type": "code",
      "source": [
        "import numpy as np\n",
        "\n",
        "arr = np.array([1, 2, 3, 4, 5])\n",
        "\n",
        "print(arr)"
      ],
      "metadata": {
        "colab": {
          "base_uri": "https://localhost:8080/"
        },
        "id": "apHT-h60eIa6",
        "outputId": "5c13467e-cc01-42b9-c557-0cf69931ade9"
      },
      "execution_count": 6,
      "outputs": [
        {
          "output_type": "stream",
          "name": "stdout",
          "text": [
            "[1 2 3 4 5]\n"
          ]
        }
      ]
    },
    {
      "cell_type": "markdown",
      "source": [
        "3) 2차원 배열"
      ],
      "metadata": {
        "id": "lqEgLqwwePOe"
      }
    },
    {
      "cell_type": "code",
      "source": [
        "import numpy as np\n",
        "\n",
        "arr = np.array([[1, 2, 3], [4, 5, 6]])\n",
        "\n",
        "print(arr)"
      ],
      "metadata": {
        "colab": {
          "base_uri": "https://localhost:8080/"
        },
        "id": "COcMQD5oeQ3A",
        "outputId": "9c24b808-1a10-44d4-90ea-0bcfc67bf632"
      },
      "execution_count": 7,
      "outputs": [
        {
          "output_type": "stream",
          "name": "stdout",
          "text": [
            "[[1 2 3]\n",
            " [4 5 6]]\n"
          ]
        }
      ]
    },
    {
      "cell_type": "markdown",
      "source": [
        "4) 3차원 배열"
      ],
      "metadata": {
        "id": "8hrWP5XVeTmd"
      }
    },
    {
      "cell_type": "code",
      "source": [
        "import numpy as np\n",
        "\n",
        "arr = np.array([[[1, 2, 3], [4, 5, 6]], [[1, 2, 3], [4, 5, 6]]])\n",
        "\n",
        "print(arr)"
      ],
      "metadata": {
        "colab": {
          "base_uri": "https://localhost:8080/"
        },
        "id": "MaBgI-FzeVst",
        "outputId": "08c7da47-5480-4953-8edd-adabc8f844c7"
      },
      "execution_count": 8,
      "outputs": [
        {
          "output_type": "stream",
          "name": "stdout",
          "text": [
            "[[[1 2 3]\n",
            "  [4 5 6]]\n",
            "\n",
            " [[1 2 3]\n",
            "  [4 5 6]]]\n"
          ]
        }
      ]
    },
    {
      "cell_type": "markdown",
      "source": [
        "(3) 차원 수 확인"
      ],
      "metadata": {
        "id": "GfycaJUZehmo"
      }
    },
    {
      "cell_type": "code",
      "source": [
        "import numpy as np\n",
        "\n",
        "a = np.array(42)\n",
        "b = np.array([1, 2, 3, 4, 5])\n",
        "c = np.array([[1, 2, 3], [4, 5, 6]])\n",
        "d = np.array([[[1, 2, 3], [4, 5, 6]], [[1, 2, 3], [4, 5, 6]]])\n",
        "\n",
        "print(a.ndim)\n",
        "print(b.ndim)\n",
        "print(c.ndim)\n",
        "print(d.ndim)"
      ],
      "metadata": {
        "colab": {
          "base_uri": "https://localhost:8080/"
        },
        "id": "O2CK1NLYemyB",
        "outputId": "f80d634e-ce82-4bad-8fa0-765329b1db60"
      },
      "execution_count": 9,
      "outputs": [
        {
          "output_type": "stream",
          "name": "stdout",
          "text": [
            "0\n",
            "1\n",
            "2\n",
            "3\n"
          ]
        }
      ]
    },
    {
      "cell_type": "markdown",
      "source": [
        "(4) 5차원 배열 및 배열 수 확인"
      ],
      "metadata": {
        "id": "_AMCFpxceoy8"
      }
    },
    {
      "cell_type": "code",
      "source": [
        "import numpy as np\n",
        "\n",
        "arr = np.array([1, 2, 3, 4], ndmin=5)\n",
        "\n",
        "print(arr)\n",
        "print('number of dimensions :', arr.ndim)"
      ],
      "metadata": {
        "colab": {
          "base_uri": "https://localhost:8080/"
        },
        "id": "f5kCcydle0tC",
        "outputId": "1b43f4e0-1352-4baa-bee7-888f2a88445c"
      },
      "execution_count": 10,
      "outputs": [
        {
          "output_type": "stream",
          "name": "stdout",
          "text": [
            "[[[[[1 2 3 4]]]]]\n",
            "number of dimensions : 5\n"
          ]
        }
      ]
    },
    {
      "cell_type": "markdown",
      "source": [
        "##**3. NumPy 배열 인덱싱**"
      ],
      "metadata": {
        "id": "72CrDZB5e7Fl"
      }
    },
    {
      "cell_type": "markdown",
      "source": [
        "# (1) Access 배열 요소"
      ],
      "metadata": {
        "id": "SQ6cnUJPgFTF"
      }
    },
    {
      "cell_type": "markdown",
      "source": [
        "-> 배열 요소에 액세스하는 것과 동일\n",
        "\n",
        "--> NumPy 배열의 인덱스는 0으로 시작, 이는 첫 번째 요소가 인덱스는 0, 두 번째는 인덱스 1"
      ],
      "metadata": {
        "id": "gvM-vU3Ff_m_"
      }
    },
    {
      "cell_type": "markdown",
      "source": [
        "1) 배열에서 요소 가져오기"
      ],
      "metadata": {
        "id": "CQcBjXLhgb4j"
      }
    },
    {
      "cell_type": "code",
      "source": [
        "import numpy as np\n",
        "\n",
        "arr = np.array([1, 2, 3, 4])\n",
        "\n",
        "print(arr[0])"
      ],
      "metadata": {
        "colab": {
          "base_uri": "https://localhost:8080/"
        },
        "id": "ajaC3g1BgT73",
        "outputId": "171b4f2b-a3b2-4512-8e10-a705bdbdafc2"
      },
      "execution_count": 11,
      "outputs": [
        {
          "output_type": "stream",
          "name": "stdout",
          "text": [
            "1\n"
          ]
        }
      ]
    },
    {
      "cell_type": "code",
      "source": [
        "import numpy as np\n",
        "\n",
        "arr = np.array([1, 2, 3, 4])\n",
        "\n",
        "print(arr[1])"
      ],
      "metadata": {
        "colab": {
          "base_uri": "https://localhost:8080/"
        },
        "id": "VunsxiPOgVop",
        "outputId": "43d25f1f-c9be-427b-b306-14fb75551915"
      },
      "execution_count": 12,
      "outputs": [
        {
          "output_type": "stream",
          "name": "stdout",
          "text": [
            "2\n"
          ]
        }
      ]
    },
    {
      "cell_type": "markdown",
      "source": [
        "2) 배열에서 요소 가져오기 및 추가"
      ],
      "metadata": {
        "id": "mQHU4LhnggPQ"
      }
    },
    {
      "cell_type": "code",
      "source": [
        "import numpy as np\n",
        "\n",
        "arr = np.array([1, 2, 3, 4])\n",
        "\n",
        "print(arr[2] + arr[3])"
      ],
      "metadata": {
        "colab": {
          "base_uri": "https://localhost:8080/"
        },
        "id": "iBM8n2L4gX15",
        "outputId": "392d75e9-fa79-4f9c-f42e-d66ff4f2d8a2"
      },
      "execution_count": 13,
      "outputs": [
        {
          "output_type": "stream",
          "name": "stdout",
          "text": [
            "7\n"
          ]
        }
      ]
    },
    {
      "cell_type": "markdown",
      "source": [
        "(2) 배열에 액세스하기"
      ],
      "metadata": {
        "id": "lMooMxF8gpwK"
      }
    },
    {
      "cell_type": "code",
      "source": [
        "import numpy as np\n",
        "\n",
        "arr = np.array([[[1, 2, 3], [4, 5, 6]], [[7, 8, 9], [10, 11, 12]]])\n",
        "\n",
        "print(arr[0, 1, 2])"
      ],
      "metadata": {
        "colab": {
          "base_uri": "https://localhost:8080/"
        },
        "id": "XCDommLxgtTa",
        "outputId": "1716f332-7b4d-4997-9cec-706537ee0b6d"
      },
      "execution_count": 14,
      "outputs": [
        {
          "output_type": "stream",
          "name": "stdout",
          "text": [
            "6\n"
          ]
        }
      ]
    }
  ]
}