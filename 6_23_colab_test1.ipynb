{
  "nbformat": 4,
  "nbformat_minor": 0,
  "metadata": {
    "colab": {
      "provenance": [],
      "gpuType": "T4",
      "authorship_tag": "ABX9TyNeLbo6HPehHQLxENQCobUy",
      "include_colab_link": true
    },
    "kernelspec": {
      "name": "python3",
      "display_name": "Python 3"
    },
    "language_info": {
      "name": "python"
    },
    "accelerator": "GPU"
  },
  "cells": [
    {
      "cell_type": "markdown",
      "metadata": {
        "id": "view-in-github",
        "colab_type": "text"
      },
      "source": [
        "<a href=\"https://colab.research.google.com/github/Yujin726/0624/blob/main/6_23_colab_test1.ipynb\" target=\"_parent\"><img src=\"https://colab.research.google.com/assets/colab-badge.svg\" alt=\"Open In Colab\"/></a>"
      ]
    },
    {
      "cell_type": "markdown",
      "source": [
        "코랩 테스트\n"
      ],
      "metadata": {
        "id": "q2RomlZGeLqU"
      }
    },
    {
      "cell_type": "markdown",
      "source": [
        "구문 실행"
      ],
      "metadata": {
        "id": "7qUFI_Aljhn6"
      }
    },
    {
      "cell_type": "code",
      "execution_count": 1,
      "metadata": {
        "colab": {
          "base_uri": "https://localhost:8080/"
        },
        "id": "Ki5oXK-pdVWu",
        "outputId": "a39f6af5-c339-4ce3-83a3-c8f2d73acf2d"
      },
      "outputs": [
        {
          "output_type": "stream",
          "name": "stdout",
          "text": [
            "Hello, World!\n"
          ]
        }
      ],
      "source": [
        "print(\"Hello, World!\")"
      ]
    },
    {
      "cell_type": "code",
      "source": [
        "x = 5\n",
        "y = \"John\"\n",
        "print(x)\n",
        "print(y)"
      ],
      "metadata": {
        "colab": {
          "base_uri": "https://localhost:8080/"
        },
        "id": "tw-BUdXPfWun",
        "outputId": "cad5e7c2-853b-4f1e-f4db-5914c8cdbb6e"
      },
      "execution_count": 2,
      "outputs": [
        {
          "output_type": "stream",
          "name": "stdout",
          "text": [
            "5\n",
            "John\n"
          ]
        }
      ]
    },
    {
      "cell_type": "markdown",
      "source": [
        "Python 버전 확인"
      ],
      "metadata": {
        "id": "FnnrDpjyjLn8"
      }
    },
    {
      "cell_type": "code",
      "source": [
        "import sys\n",
        "\n",
        "print(sys.version)"
      ],
      "metadata": {
        "colab": {
          "base_uri": "https://localhost:8080/"
        },
        "id": "szvhRL7qioJM",
        "outputId": "92993748-5633-4fac-a82a-a9093a332bd4"
      },
      "execution_count": 3,
      "outputs": [
        {
          "output_type": "stream",
          "name": "stdout",
          "text": [
            "3.11.13 (main, Jun  4 2025, 08:57:29) [GCC 11.4.0]\n"
          ]
        }
      ]
    },
    {
      "cell_type": "markdown",
      "source": [
        "다중줄 주석"
      ],
      "metadata": {
        "id": "vnkf-B4ckweR"
      }
    },
    {
      "cell_type": "code",
      "source": [
        "#This is a comment\n",
        "#written in\n",
        "#more than just one line\n",
        "print(\"Hello, World!\")"
      ],
      "metadata": {
        "colab": {
          "base_uri": "https://localhost:8080/"
        },
        "id": "g2OPoTGuksjx",
        "outputId": "8a55bdb5-1a0e-45ef-9379-f8257c8eccc2"
      },
      "execution_count": 4,
      "outputs": [
        {
          "output_type": "stream",
          "name": "stdout",
          "text": [
            "Hello, World!\n"
          ]
        }
      ]
    },
    {
      "cell_type": "markdown",
      "source": [
        "변수_생성"
      ],
      "metadata": {
        "id": "LYGgSh_2lDyv"
      }
    },
    {
      "cell_type": "code",
      "source": [
        "x = str(3)\n",
        "y = int(3)\n",
        "z = float(3)\n",
        "print(x)\n",
        "print(y)\n",
        "print(z)"
      ],
      "metadata": {
        "colab": {
          "base_uri": "https://localhost:8080/"
        },
        "id": "uHRaUN5SjJMX",
        "outputId": "cdf3a30c-815d-4539-8fd2-1366e6215db9"
      },
      "execution_count": 5,
      "outputs": [
        {
          "output_type": "stream",
          "name": "stdout",
          "text": [
            "3\n",
            "3\n",
            "3.0\n"
          ]
        }
      ]
    },
    {
      "cell_type": "markdown",
      "source": [
        "변수_이름"
      ],
      "metadata": {
        "id": "EuA9SJT3lbK3"
      }
    },
    {
      "cell_type": "code",
      "source": [
        "myvar = \"Jin\"\n",
        "my_var = \"Jin\"\n",
        "_my_var = \"Jin\"\n",
        "myVar = \"Jin\"\n",
        "MYVAR = \"Jin\"\n",
        "myvar2 = \"Jin\"\n",
        "print(myvar)\n",
        "print(my_var)\n",
        "print(_my_var)\n"
      ],
      "metadata": {
        "colab": {
          "base_uri": "https://localhost:8080/"
        },
        "id": "IYQ1zMhHlfVN",
        "outputId": "b3d9956f-e526-4b4b-857d-65166598c1bd"
      },
      "execution_count": 6,
      "outputs": [
        {
          "output_type": "stream",
          "name": "stdout",
          "text": [
            "Jin\n",
            "Jin\n",
            "Jin\n"
          ]
        }
      ]
    },
    {
      "cell_type": "markdown",
      "source": [
        "변수_여러 값 할당"
      ],
      "metadata": {
        "id": "uaYmH1M_lxei"
      }
    },
    {
      "cell_type": "code",
      "source": [
        "x, y, z = \"Orange\", \"Banana\", \"Cherry\"\n",
        "print(x)\n",
        "print(y)\n",
        "print(z)"
      ],
      "metadata": {
        "colab": {
          "base_uri": "https://localhost:8080/"
        },
        "id": "lHKBm_E1l5VL",
        "outputId": "889ce530-bcdc-4047-deb5-4b3da137324a"
      },
      "execution_count": 7,
      "outputs": [
        {
          "output_type": "stream",
          "name": "stdout",
          "text": [
            "Orange\n",
            "Banana\n",
            "Cherry\n"
          ]
        }
      ]
    },
    {
      "cell_type": "markdown",
      "source": [
        "변수_하나의 값을 여러 변수에"
      ],
      "metadata": {
        "id": "0uAOy3C2moq1"
      }
    },
    {
      "cell_type": "code",
      "source": [
        "x = y = z = \"Orange\"\n",
        "print(x)\n",
        "print(y)\n",
        "print(z)"
      ],
      "metadata": {
        "colab": {
          "base_uri": "https://localhost:8080/"
        },
        "id": "gzaCncgJmv9V",
        "outputId": "d67939ce-c8aa-4847-d7bc-d13bdfdf6fc5"
      },
      "execution_count": 8,
      "outputs": [
        {
          "output_type": "stream",
          "name": "stdout",
          "text": [
            "Orange\n",
            "Orange\n",
            "Orange\n"
          ]
        }
      ]
    },
    {
      "cell_type": "markdown",
      "source": [
        "출력 변수"
      ],
      "metadata": {
        "id": "zFdiy7OFm4Vi"
      }
    },
    {
      "cell_type": "code",
      "source": [
        "x = \"Python is awesome\"\n",
        "print(x)"
      ],
      "metadata": {
        "colab": {
          "base_uri": "https://localhost:8080/"
        },
        "id": "Qb2p7uUOnDv3",
        "outputId": "a72ff4f1-5bb1-42a2-8424-23a62f926304"
      },
      "execution_count": 9,
      "outputs": [
        {
          "output_type": "stream",
          "name": "stdout",
          "text": [
            "Python is awesome\n"
          ]
        }
      ]
    },
    {
      "cell_type": "markdown",
      "source": [
        "+연산자 사용 -> 여러 변수 출력"
      ],
      "metadata": {
        "id": "50EVh-YAmu5E"
      }
    },
    {
      "cell_type": "code",
      "source": [
        "x = \"Kwak \"\n",
        "y = \"Yu \"\n",
        "z = \"Jin\"\n",
        "print(x + y + z)"
      ],
      "metadata": {
        "colab": {
          "base_uri": "https://localhost:8080/"
        },
        "id": "pcy-qWu7nv0d",
        "outputId": "bd25eb6d-a6e3-492c-8bd6-2c65da1643c1"
      },
      "execution_count": 10,
      "outputs": [
        {
          "output_type": "stream",
          "name": "stdout",
          "text": [
            "Kwak Yu Jin\n"
          ]
        }
      ]
    },
    {
      "cell_type": "markdown",
      "source": [
        "+연산자 사용 -> 숫자 예시 (합)"
      ],
      "metadata": {
        "id": "hJ7K2uzAqXO5"
      }
    },
    {
      "cell_type": "code",
      "source": [
        "x = 5\n",
        "y = 10\n",
        "print(x + y)"
      ],
      "metadata": {
        "colab": {
          "base_uri": "https://localhost:8080/"
        },
        "id": "TTxC759krPLu",
        "outputId": "d4c7be7e-337f-4602-ece0-14d61de1e273"
      },
      "execution_count": 11,
      "outputs": [
        {
          "output_type": "stream",
          "name": "stdout",
          "text": [
            "15\n"
          ]
        }
      ]
    },
    {
      "cell_type": "markdown",
      "source": [
        "전역 변수"
      ],
      "metadata": {
        "id": "IT3S100NrXum"
      }
    },
    {
      "cell_type": "code",
      "source": [
        "x = \"awesome\"\n",
        "\n",
        "def myfunc():\n",
        "  x = \"fantastic\"\n",
        "  print(\"Python is \" + x)\n",
        "\n",
        "myfunc()\n",
        "\n",
        "print(\"Python is \" + x)"
      ],
      "metadata": {
        "colab": {
          "base_uri": "https://localhost:8080/"
        },
        "id": "PzqP9jfcroRm",
        "outputId": "79550ff9-ba78-416a-d8da-b0126473f862"
      },
      "execution_count": 12,
      "outputs": [
        {
          "output_type": "stream",
          "name": "stdout",
          "text": [
            "Python is fantastic\n",
            "Python is awesome\n"
          ]
        }
      ]
    },
    {
      "cell_type": "markdown",
      "source": [
        "함수 내 전역 변수 값 변경 global 키워드"
      ],
      "metadata": {
        "id": "0d9lIkkQryXY"
      }
    },
    {
      "cell_type": "code",
      "source": [
        "x = \"awesome\"\n",
        "\n",
        "def myfunc():\n",
        "  global x\n",
        "  x = \"fantastic\"\n",
        "\n",
        "myfunc()\n",
        "\n",
        "print(\"Python is \" + x)"
      ],
      "metadata": {
        "colab": {
          "base_uri": "https://localhost:8080/"
        },
        "id": "CbcSaCs1r7Ok",
        "outputId": "4f8e2a0e-abd2-4f02-c407-528ef9c7b373"
      },
      "execution_count": 13,
      "outputs": [
        {
          "output_type": "stream",
          "name": "stdout",
          "text": [
            "Python is fantastic\n"
          ]
        }
      ]
    },
    {
      "cell_type": "markdown",
      "source": [
        "변수 연습 (수업 이후)"
      ],
      "metadata": {
        "id": "fhxEbBjdtj1-"
      }
    },
    {
      "cell_type": "markdown",
      "source": [
        "데이터 유형 및 데이터 유형 *가져오기*"
      ],
      "metadata": {
        "id": "QpvJRMkBt0_S"
      }
    },
    {
      "cell_type": "markdown",
      "source": [
        "텍스트 유형:\tstr\n",
        "숫자형 유형:\tint, float, complex\n",
        "시퀀스 유형:\tlist, tuple, range\n",
        "매핑 유형:\tdict\n",
        "세트 유형:\tset,frozenset\n",
        "부울 유형:\tbool\n",
        "이진 유형:\tbytes, bytearray, memoryview\n",
        "없음 유형:\tNoneType"
      ],
      "metadata": {
        "id": "g6KBaeY7t5AR"
      }
    },
    {
      "cell_type": "code",
      "source": [
        "x = 5\n",
        "print(type(x))"
      ],
      "metadata": {
        "id": "iYxzBrHHuDaC",
        "colab": {
          "base_uri": "https://localhost:8080/"
        },
        "outputId": "a0fe1184-7dcb-474e-b00a-b166ac7d2ad4"
      },
      "execution_count": 14,
      "outputs": [
        {
          "output_type": "stream",
          "name": "stdout",
          "text": [
            "<class 'int'>\n"
          ]
        }
      ]
    },
    {
      "cell_type": "markdown",
      "source": [
        "데니터 유형 설정"
      ],
      "metadata": {
        "id": "izJHf5ACuG_Z"
      }
    },
    {
      "cell_type": "code",
      "source": [
        "x = \"Hello World\""
      ],
      "metadata": {
        "id": "huGXV0l1vOa3"
      },
      "execution_count": 15,
      "outputs": []
    },
    {
      "cell_type": "markdown",
      "source": [
        "특정 데이터 유형 설정\n",
        "\n",
        "1. str\n",
        "2. int\n",
        "3. float\n",
        "4. complex\n"
      ],
      "metadata": {
        "id": "kScd0MKrvXa8"
      }
    },
    {
      "cell_type": "code",
      "source": [
        "x = str(\"Hello World\")\tstr\tTry it »\n",
        "x = int(20)\tint\tTry it »\n",
        "x = float(20.5)\tfloat\tTry it »\n",
        "x = complex(1j)\n"
      ],
      "metadata": {
        "id": "94aPLa1Ev2fZ",
        "colab": {
          "base_uri": "https://localhost:8080/",
          "height": 106
        },
        "outputId": "fc81ea3a-9cf0-42d1-9237-7064b20c425a"
      },
      "execution_count": 16,
      "outputs": [
        {
          "output_type": "error",
          "ename": "SyntaxError",
          "evalue": "invalid character '»' (U+00BB) (ipython-input-16-796352190.py, line 1)",
          "traceback": [
            "\u001b[0;36m  File \u001b[0;32m\"/tmp/ipython-input-16-796352190.py\"\u001b[0;36m, line \u001b[0;32m1\u001b[0m\n\u001b[0;31m    x = str(\"Hello World\")\tstr\tTry it »\u001b[0m\n\u001b[0m                          \t   \t       ^\u001b[0m\n\u001b[0;31mSyntaxError\u001b[0m\u001b[0;31m:\u001b[0m invalid character '»' (U+00BB)\n"
          ]
        }
      ]
    }
  ]
}