{
  "nbformat": 4,
  "nbformat_minor": 0,
  "metadata": {
    "colab": {
      "provenance": [],
      "authorship_tag": "ABX9TyOTZmYvJObmwsxHqNt19DhS",
      "include_colab_link": true
    },
    "kernelspec": {
      "name": "python3",
      "display_name": "Python 3"
    },
    "language_info": {
      "name": "python"
    }
  },
  "cells": [
    {
      "cell_type": "markdown",
      "metadata": {
        "id": "view-in-github",
        "colab_type": "text"
      },
      "source": [
        "<a href=\"https://colab.research.google.com/github/Yujin726/0624/blob/main/07_04_colab_test.ipynb\" target=\"_parent\"><img src=\"https://colab.research.google.com/assets/colab-badge.svg\" alt=\"Open In Colab\"/></a>"
      ]
    },
    {
      "cell_type": "markdown",
      "source": [
        "#🎯 Mission: 기본 플롯 만들기\n",
        "\n",
        "##✅ 조건 목록:\n",
        "\n",
        "1. Import\n",
        "\n",
        " - import matplotlib.pyplot as plt\n",
        "\n",
        "2. 함수 정의\n",
        "\n",
        " - 함수 이름: setup_basic_plot(step_num=1, action=\"forward\")\n",
        "\n",
        "3. 캔버스 크기\n",
        "\n",
        " - figsize=(8, 6)\n",
        "\n",
        "4. 축 범위\n",
        "\n",
        " - X축: -1부터 8까지\n",
        "\n",
        " - Y축: -1부터 12까지\n",
        "\n",
        "5. 글자 크기\n",
        "\n",
        " - 라벨과 제목에 fontsize=12 적용\n",
        "\n",
        "6. 제목\n",
        "\n",
        " - f-string을 사용해 동적으로 설정\n",
        "\n",
        " - 예시: \"Step 5: Action = turn_left\"\n",
        "\n",
        "7. 레이아웃 최적화\n",
        "\n",
        " - plt.tight_layout() 사용\n",
        "\n",
        " - plt.show() 바로 직전에 위치\n",
        "\n",
        "8. 그래프 표시\n",
        "\n",
        " - plt.show() 사용\n",
        "\n",
        "9. 반환값\n",
        "\n",
        " - 함수는 ax 객체를 반환해야 함\n",
        "\n",
        "10. 실행 코드\n",
        "\n",
        " - if __name__ == \"__main__\":\n",
        "\n",
        "      setup_basic_plot(5, \"turn_left\")\n"
      ],
      "metadata": {
        "id": "CNMnyP6Gyith"
      }
    },
    {
      "cell_type": "code",
      "execution_count": 1,
      "metadata": {
        "colab": {
          "base_uri": "https://localhost:8080/",
          "height": 607
        },
        "id": "qztKYftDxfJU",
        "outputId": "91832cc8-20dc-49c7-f315-47f3d6be59fe"
      },
      "outputs": [
        {
          "output_type": "display_data",
          "data": {
            "text/plain": [
              "<Figure size 800x600 with 1 Axes>"
            ],
            "image/png": "[encoded data removed]"
          },
          "metadata": {}
        }
      ],
      "source": [
        "import matplotlib.pyplot as plt\n",
        "\n",
        "def setup_basic_plot(step_num=1, action=\"forward\"):\n",
        "    # 캔버스 크기 설정\n",
        "    fig, ax = plt.subplots(figsize=(8, 6))\n",
        "\n",
        "    # 축 범위 설정\n",
        "    ax.set_xlim(-1, 8)\n",
        "    ax.set_ylim(-1, 12)\n",
        "\n",
        "    # 축 라벨 및 제목\n",
        "    ax.set_xlabel(\"X-axis\", fontsize=12)\n",
        "    ax.set_ylabel(\"Y-axis\", fontsize=12)\n",
        "    ax.set_title(f\"Step {step_num}: Action = {action}\", fontsize=12)\n",
        "\n",
        "    # 레이아웃 정리\n",
        "    plt.tight_layout()\n",
        "\n",
        "    # 그래프 표시\n",
        "    plt.show()\n",
        "\n",
        "    # ax 객체 반환\n",
        "    return ax\n",
        "\n",
        "# 실행 부분\n",
        "if __name__ == \"__main__\":\n",
        "    setup_basic_plot(5, \"turn_left\")\n"
      ]
    },
    {
      "cell_type": "markdown",
      "source": [
        "# 🎯 Mission: 목표선 그리기 함수 만들기\n",
        "\n",
        "## ✅ 조건 목록:\n",
        "\n",
        "1. Import  \n",
        " - import matplotlib.pyplot as plt\n",
        "\n",
        "2. 함수 정의  \n",
        " - 함수 이름: draw_goal_line(obstacles)  \n",
        " - 매개변수: obstacles (장애물 좌표의 집합 또는 리스트)\n",
        "\n",
        "3. 캔버스 크기  \n",
        " - figsize=(8, 6)\n",
        "\n",
        "4. 축 범위  \n",
        " - X축: -1부터 8까지  \n",
        " - Y축: -1부터 12까지\n",
        "\n",
        "5. 격자 설정  \n",
        " - ax.grid(True, alpha=0.3) 사용\n",
        "\n",
        "6. 목표선 계산  \n",
        " - 가장 높은 장애물의 Y좌표를 기준으로 목표선 계산  \n",
        " - goal_y = 최대 Y좌표 + 3  \n",
        " - 장애물이 없으면 goal_y = 0\n",
        "\n",
        "7. 목표선 그리기  \n",
        " - ax.axhline() 함수 사용  \n",
        " - 선 색상: color='lime'  \n",
        " - 선 두께: linewidth=3  \n",
        " - 투명도: alpha=0.7  \n",
        " - 범례용 라벨 포함\n",
        "\n",
        "8. 텍스트 표시  \n",
        " - 위치: (7, goal_y + 0.2)  \n",
        " - 내용: f\"GOAL (y={goal_y})\"  \n",
        " - 색상: 'green'  \n",
        " - 정렬: ha='left', va='bottom'\n",
        "\n",
        "9. 기타 설정  \n",
        " - ax.legend() 사용  \n",
        " - plt.tight_layout()  \n",
        " - plt.show()\n",
        "\n",
        "10. 반환값  \n",
        " - goal_y 값 반환\n",
        "\n",
        "11. 실행 코드 예시  \n",
        " - if __name__ == \"__main__\":  \n",
        "    obstacles = {(3, 2), (3, 3), (2, 4), (4, 5)}  \n",
        "    draw_goal_line(obstacles)"
      ],
      "metadata": {
        "id": "4z5CcMKm4og8"
      }
    },
    {
      "cell_type": "code",
      "source": [
        "import matplotlib.pyplot as plt\n",
        "\n",
        "def draw_goal_line(obstacles):\n",
        "    # 캔버스 및 축 생성\n",
        "    fig, ax = plt.subplots(figsize=(8, 6))\n",
        "    ax.set_xlim(-1, 8)\n",
        "    ax.set_ylim(-1, 12)\n",
        "    ax.grid(True, alpha=0.3)\n",
        "\n",
        "    # goal_y 계산\n",
        "    if obstacles:\n",
        "        max_y = max(y for (_, y) in obstacles)\n",
        "        goal_y = max_y + 3\n",
        "    else:\n",
        "        goal_y = 0\n",
        "\n",
        "    # 목표선 그리기\n",
        "    ax.axhline(goal_y, color='lime', linewidth=3, alpha=0.7, label=f\"Goal Line (y={goal_y})\")\n",
        "\n",
        "    # 텍스트 표시\n",
        "    ax.text(7, goal_y + 0.2, f\"GOAL (y={goal_y})\", color='green', ha='left', va='bottom')\n",
        "\n",
        "    # 범례 및 레이아웃\n",
        "    ax.legend()\n",
        "    plt.tight_layout()\n",
        "    plt.show()\n",
        "\n",
        "    return goal_y\n",
        "\n",
        "# 실행 예시\n",
        "if __name__ == \"__main__\":\n",
        "    obstacles = {(3, 2), (3, 3), (2, 4), (4, 5)}\n",
        "    draw_goal_line(obstacles)\n"
      ],
      "metadata": {
        "colab": {
          "base_uri": "https://localhost:8080/",
          "height": 606
        },
        "id": "8lS8KXr34t8g",
        "outputId": "baaa6567-cc90-4562-885f-2839714901da"
      },
      "execution_count": 2,
      "outputs": [
        {
          "output_type": "display_data",
          "data": {
            "text/plain": [
              "<Figure size 800x600 with 1 Axes>"
            ],
            "image/png": "[encoded data removed]"
          },
          "metadata": {}
        }
      ]
    },
    {
      "cell_type": "markdown",
      "source": [
        "# 📝 Mission: 장애물 그리기 함수 만들기\n",
        "\n",
        "## ✅ 조건 목록:\n",
        "\n",
        "1. Import  \n",
        " - import matplotlib.pyplot as plt  \n",
        " - from matplotlib.patches import Rectangle\n",
        "\n",
        "2. 함수 정의  \n",
        " - 함수 이름: draw_obstacles(obstacles)  \n",
        " - 매개변수: obstacles (장애물 위치들의 set 또는 list)\n",
        "\n",
        "3. 캔버스 설정  \n",
        " - figsize=(8, 6)\n",
        "\n",
        "4. 축 범위 설정  \n",
        " - ax.set_xlim(-1, 8)  \n",
        " - ax.set_ylim(-1, 12)\n",
        "\n",
        "5. 정사각형 비율 유지  \n",
        " - ax.set_aspect('equal')\n",
        "\n",
        "6. 격자 및 라벨 설정  \n",
        " - x축, y축 라벨 설정  \n",
        " - ax.grid(True, alpha=0.3)\n",
        "\n",
        "7. 데이터 처리  \n",
        " - set을 list로 변환하여 순서 보장  \n",
        " - isinstance() 함수로 타입 확인\n",
        "\n",
        "8. 장애물 그리기  \n",
        " - 빨간색 사각형 (color='red', alpha=0.7)  \n",
        " - 크기: 0.8 x 0.8  \n",
        " - 중심 좌표에서 0.4씩 빼서 위치 조정  \n",
        " - Rectangle 패치 사용  \n",
        " - ax.add_patch(rect)로 추가\n",
        "\n",
        "9. 텍스트 표시  \n",
        " - 각 장애물 중앙에 번호 표시  \n",
        " - 글자 색상: 흰색  \n",
        " - 굵은 글씨 (weight='bold')  \n",
        " - enumerate() 함수로 번호 매기기\n",
        "\n",
        "10. 범례 및 출력  \n",
        " - 첫 번째 장애물에만 label 추가  \n",
        " - ax.legend()로 범례 표시  \n",
        " - 콘솔에 장애물 정보 출력\n",
        "\n",
        "11. 레이아웃 및 실행  \n",
        " - plt.tight_layout()  \n",
        " - plt.show()\n",
        "\n",
        "12. 실행 코드 예시  \n",
        " - if __name__ == \"__main__\":  \n",
        "    obstacles = {(3, 2), (3, 3), (2, 4), (4, 5)}  \n",
        "    draw_obstacles(obstacles)\n",
        ""
      ],
      "metadata": {
        "id": "6AoiqTTq-sB5"
      }
    },
    {
      "cell_type": "code",
      "source": [
        "import matplotlib.pyplot as plt\n",
        "from matplotlib.patches import Rectangle\n",
        "\n",
        "def draw_obstacles(obstacles):\n",
        "    # 타입 확인 후 set이면 list로 변환\n",
        "    if isinstance(obstacles, set):\n",
        "        obstacles = list(obstacles)\n",
        "\n",
        "    fig, ax = plt.subplots(figsize=(8, 6))\n",
        "    ax.set_xlim(-1, 8)\n",
        "    ax.set_ylim(-1, 12)\n",
        "    ax.set_aspect('equal')\n",
        "\n",
        "    ax.set_xlabel(\"X axis\")\n",
        "    ax.set_ylabel(\"Y axis\")\n",
        "    ax.grid(True, alpha=0.3)\n",
        "\n",
        "    for i, (x, y) in enumerate(obstacles):\n",
        "        # 사각형 위치는 중심에서 0.4씩 빼서 왼쪽 아래 좌표 맞춤\n",
        "        rect = Rectangle((x - 0.4, y - 0.4), 0.8, 0.8, color='red', alpha=0.7)\n",
        "        # 첫 번째 장애물에만 레이블 추가\n",
        "        if i == 0:\n",
        "            ax.add_patch(rect)\n",
        "            rect.set_label(\"Obstacle\")\n",
        "        else:\n",
        "            ax.add_patch(rect)\n",
        "        # 번호 텍스트 중앙에 표시\n",
        "        ax.text(x, y, str(i + 1), color='white', weight='bold',\n",
        "                ha='center', va='center')\n",
        "\n",
        "        # 콘솔 출력\n",
        "        print(f\"장애물 {i + 1}: 위치 ({x}, {y})\")\n",
        "\n",
        "    ax.legend()\n",
        "    plt.tight_layout()\n",
        "    plt.show()\n",
        "\n",
        "if __name__ == \"__main__\":\n",
        "    obstacles = {(3, 2), (3, 3), (2, 4), (4, 5)}\n",
        "    draw_obstacles(obstacles)\n"
      ],
      "metadata": {
        "colab": {
          "base_uri": "https://localhost:8080/",
          "height": 675
        },
        "id": "wPY6KZ2n_Km2",
        "outputId": "b936afbe-dac5-483e-cdd2-bab94358a341"
      },
      "execution_count": 3,
      "outputs": [
        {
          "output_type": "stream",
          "name": "stdout",
          "text": [
            "장애물 1: 위치 (4, 5)\n",
            "장애물 2: 위치 (3, 3)\n",
            "장애물 3: 위치 (3, 2)\n",
            "장애물 4: 위치 (2, 4)\n"
          ]
        },
        {
          "output_type": "display_data",
          "data": {
            "text/plain": [
              "<Figure size 800x600 with 1 Axes>"
            ],
            "image/png": "[encoded data removed]"
          },
          "metadata": {}
        }
      ]
    },
    {
      "cell_type": "markdown",
      "source": [
        "# 📝 Mission: 이동 경로 그리기 함수 만들기\n",
        "\n",
        "## ✅ 조건 목록:\n",
        "\n",
        "1. Import 설정  \n",
        " - import matplotlib.pyplot as plt\n",
        "\n",
        "2. 함수 정의  \n",
        " - 함수 이름: draw_path(path)  \n",
        " - 매개변수: path (이동 경로 좌표들의 리스트)\n",
        "\n",
        "3. 캔버스 설정  \n",
        " - 크기: figsize=(8, 6)  \n",
        " - 축 범위 설정: x축 -18까지, y축 -112까지 포함  \n",
        "   (입력 데이터 기반 자동 처리 or 확장 범위 적용)  \n",
        " - 정사각형 비율 유지: ax.set_aspect('equal')  \n",
        " - 격자 설정: ax.grid(True, alpha=0.3)  \n",
        " - 제목 설정: \"Movement Path\"\n",
        "\n",
        "4. 경로선 그리기 (점이 2개 이상일 때만)  \n",
        " - 선 스타일: 초록색 점선 ('g--')  \n",
        " - 선 두께: linewidth=3  \n",
        " - 투명도: alpha=0.8  \n",
        " - 리스트 컴프리헨션으로 x, y 분리 후  \n",
        "   ax.plot(path_x, path_y, ...) 사용\n",
        "\n",
        "5. 시작점 & 끝점 표시  \n",
        " - 시작점: 파란색 원 ('bo', markersize=10), 라벨에 좌표 포함  \n",
        " - 끝점: 빨간색 원 ('ro', markersize=10), 라벨에 좌표 포함\n",
        "\n",
        "6. 점 번호 표시  \n",
        " - 번호: (1번, 2번, ...)  \n",
        " - 위치: (x + 0.2, y + 0.2)  \n",
        " - 노란색 둥근 박스 배경  \n",
        " - enumerate() 함수 사용\n"
      ],
      "metadata": {
        "id": "R6HDLwn_MTU-"
      }
    },
    {
      "cell_type": "code",
      "source": [
        "import matplotlib.pyplot as plt\n",
        "\n",
        "def draw_path(path):\n",
        "    fig, ax = plt.subplots(figsize=(8, 6))\n",
        "    ax.set_aspect('equal')\n",
        "    ax.grid(True, alpha=0.3)\n",
        "    ax.set_title(\"Movement Path\")\n",
        "\n",
        "    # x, y 좌표 분리\n",
        "    path_x = [x for x, y in path]\n",
        "    path_y = [y for x, y in path]\n",
        "\n",
        "    # 축 범위 설정 (최소값보다 조금 더 작게)\n",
        "    ax.set_xlim(min(path_x) - 1, max(path_x) + 1)\n",
        "    ax.set_ylim(min(path_y) - 1, max(path_y) + 1)\n",
        "\n",
        "    # 경로선 (2개 이상 점이 있을 때만)\n",
        "    if len(path) >= 2:\n",
        "        ax.plot(path_x, path_y, 'g--', linewidth=3, alpha=0.8)\n",
        "\n",
        "    # 시작점 표시 (파란색)\n",
        "    start_x, start_y = path[0]\n",
        "    ax.plot(start_x, start_y, 'bo', markersize=10, label=f\"Start ({start_x}, {start_y})\")\n",
        "\n",
        "    # 끝점 표시 (빨간색)\n",
        "    end_x, end_y = path[-1]\n",
        "    ax.plot(end_x, end_y, 'ro', markersize=10, label=f\"End ({end_x}, {end_y})\")\n",
        "\n",
        "    # 점 번호 표시\n",
        "    for i, (x, y) in enumerate(path):\n",
        "        ax.text(x + 0.2, y + 0.2, str(i + 1),\n",
        "                bbox=dict(facecolor='yellow', alpha=0.6, boxstyle='round'),\n",
        "                ha='center', va='center')\n",
        "\n",
        "    ax.legend()\n",
        "    plt.tight_layout()\n",
        "    plt.show()\n",
        "\n",
        "# 실행 예시\n",
        "if __name__ == \"__main__\":\n",
        "    path = [(0, 0), (1, 2), (3, 5), (5, 8)]\n",
        "    draw_path(path)\n"
      ],
      "metadata": {
        "colab": {
          "base_uri": "https://localhost:8080/",
          "height": 607
        },
        "id": "dsjyAfgLMWGt",
        "outputId": "6e40eece-3003-4844-ee6e-f9e37b60a5bf"
      },
      "execution_count": 4,
      "outputs": [
        {
          "output_type": "display_data",
          "data": {
            "text/plain": [
              "<Figure size 800x600 with 1 Axes>"
            ],
            "image/png": "[encoded data removed]"
          },
          "metadata": {}
        }
      ]
    },
    {
      "cell_type": "markdown",
      "source": [
        "# 📝 Mission: 센서 빔 그리기 함수 만들기\n",
        "\n",
        "## ✅ 조건 목록:\n",
        "1. 함수 정의  \n",
        " - 함수 이름: draw_sensors(x, y, sensors)  \n",
        " - 매개변수:\n",
        "   - x, y: 차량 위치 좌표\n",
        "   - sensors: 딕셔너리 형태의 센서 거리 {'front': 값, 'left': 값, 'right': 값}\n",
        "\n",
        "2. 캔버스 설정  \n",
        " - 크기: figsize=(6, 5)  \n",
        " - 격자: ax.grid(True, alpha=0.3)  \n",
        " - 제목: \"Sensors\"\n",
        "\n",
        "3. 차량 위치 표시  \n",
        " - 검은색 원점: 'ko'  \n",
        " - 크기: markersize=15\n",
        "\n",
        "4. 센서 빔 그리기  \n",
        " - 전방: 'b-' (파란 직선)  \n",
        "   시작 → 끝: (x, y) → (x, y + sensors['front'])  \n",
        " - 좌측: 'g-' (초록 직선)  \n",
        "   시작 → 끝: (x, y) → (x - sensors['left'], y)  \n",
        " - 우측: 'r-' (빨간 직선)  \n",
        "   시작 → 끝: (x, y) → (x + sensors['right'], y)  \n",
        " - 공통 스타일: linewidth=3\n",
        "\n"
      ],
      "metadata": {
        "id": "ZSwnPNA0MuGs"
      }
    },
    {
      "cell_type": "code",
      "source": [
        "import matplotlib.pyplot as plt\n",
        "\n",
        "def draw_sensors(x, y, sensors):\n",
        "    fig, ax = plt.subplots(figsize=(6, 5))\n",
        "    ax.set_title(\"Sensors\")\n",
        "    ax.grid(True, alpha=0.3)\n",
        "    ax.set_aspect('equal')\n",
        "\n",
        "    # 차량 위치 표시\n",
        "    ax.plot(x, y, 'ko', markersize=15)\n",
        "\n",
        "    # 센서 빔 그리기\n",
        "    # 전방 (파란색)\n",
        "    ax.plot([x, x], [y, y + sensors['front']], 'b-', linewidth=3)\n",
        "\n",
        "    # 좌측 (초록색)\n",
        "    ax.plot([x, x - sensors['left']], [y, y], 'g-', linewidth=3)\n",
        "\n",
        "    # 우측 (빨간색)\n",
        "    ax.plot([x, x + sensors['right']], [y, y], 'r-', linewidth=3)\n",
        "\n",
        "    # 축 범위 자동 설정 + 여유 공간 확보\n",
        "    ax.set_xlim(x - max(sensors['left'], 1) - 1, x + max(sensors['right'], 1) + 1)\n",
        "    ax.set_ylim(y - 1, y + sensors['front'] + 2)\n",
        "\n",
        "    plt.tight_layout()\n",
        "    plt.show()\n",
        "\n",
        "# 실행 예시\n",
        "if __name__ == \"__main__\":\n",
        "    sensors = {\n",
        "        'front': 8.0,\n",
        "        'left': 3.0,\n",
        "        'right': 5.0\n",
        "    }\n",
        "    draw_sensors(0, 0, sensors)\n"
      ],
      "metadata": {
        "colab": {
          "base_uri": "https://localhost:8080/",
          "height": 507
        },
        "id": "_uilgbP9M8oK",
        "outputId": "8e38ee8e-14ef-4703-991e-5d384d993730"
      },
      "execution_count": 5,
      "outputs": [
        {
          "output_type": "display_data",
          "data": {
            "text/plain": [
              "<Figure size 600x500 with 1 Axes>"
            ],
            "image/png": "[encoded data removed]"
          },
          "metadata": {}
        }
      ]
    },
    {
      "cell_type": "markdown",
      "source": [
        "# 📝 Mission: 센서 빔 그리기 함수 만들기 + 거리\n",
        "## ✅ 조건 목록:\n",
        "1. 함수 정의  \n",
        " - 함수 이름: draw_sensors(x, y, sensors)  \n",
        " - 매개변수:\n",
        "   - x, y: 차량 위치 좌표\n",
        "   - sensors: 딕셔너리 {'front': 값, 'left': 값, 'right': 값}\n",
        "\n",
        "2. 캔버스 설정  \n",
        " - 크기: figsize=(6, 5)  \n",
        " - 격자: ax.grid(True, alpha=0.3)  \n",
        " - 제목: \"Sensors\"  \n",
        " - 정사각형 비율: ax.set_aspect('equal')\n",
        "\n",
        "3. 차량 위치 표시  \n",
        " - 검은색 원점: 'ko', markersize=15\n",
        "\n",
        "4. 센서 빔 그리기  \n",
        " - 최대 길이 제한: sensor_length = 3  \n",
        " - 전방: 'b-' 선, (x, y) → (x, y + front_reach)  \n",
        " - 좌측: 'g-' 선, (x, y) → (x - left_reach, y)  \n",
        " - 우측: 'r-' 선, (x, y) → (x + right_reach, y)  \n",
        " - linewidth=3 (공통)\n",
        "\n",
        "5. 센서 거리 텍스트 표시  \n",
        " - 전방: 파란색 텍스트, 위치: (x + 0.1, y + front_reach / 2)  \n",
        " - 형식: 소수점 한 자리 표시 (`f'{값:.1f}'`)  \n",
        " - fontweight='bold'\n",
        "\n",
        "6. 센서 끝점 표시  \n",
        " - 전방 끝점: 'bo', markersize=8  \n",
        " - 좌측 끝점: 'go', markersize=8  \n",
        " - 우측 끝점: 'ro', markersize=8\n"
      ],
      "metadata": {
        "id": "v2ucgUpLNE0Q"
      }
    },
    {
      "cell_type": "code",
      "source": [
        "import matplotlib.pyplot as plt\n",
        "\n",
        "def draw_sensors(x, y, sensors):\n",
        "    fig, ax = plt.subplots(figsize=(6, 5))\n",
        "    ax.set_title(\"Sensors\")\n",
        "    ax.grid(True, alpha=0.3)\n",
        "    ax.set_aspect('equal')\n",
        "\n",
        "    # 최대 센서 길이 제한\n",
        "    sensor_length = 3\n",
        "    front_reach = min(sensors['front'], sensor_length)\n",
        "    left_reach = min(sensors['left'], sensor_length)\n",
        "    right_reach = min(sensors['right'], sensor_length)\n",
        "\n",
        "    # 차량 위치 표시\n",
        "    ax.plot(x, y, 'ko', markersize=15)\n",
        "\n",
        "    # 전방 센서 빔\n",
        "    ax.plot([x, x], [y, y + front_reach], 'b-', linewidth=3)\n",
        "    ax.plot(x, y + front_reach, 'bo', markersize=8)\n",
        "    ax.text(x + 0.1, y + front_reach / 2, f'{sensors[\"front\"]:.1f}', color='blue', fontweight='bold')\n",
        "\n",
        "    # 좌측 센서 빔\n",
        "    ax.plot([x, x - left_reach], [y, y], 'g-', linewidth=3)\n",
        "    ax.plot(x - left_reach, y, 'go', markersize=8)\n",
        "    ax.text(x - left_reach / 2, y + 0.2, f'{sensors[\"left\"]:.1f}', color='green', fontweight='bold')\n",
        "\n",
        "    # 우측 센서 빔\n",
        "    ax.plot([x, x + right_reach], [y, y], 'r-', linewidth=3)\n",
        "    ax.plot(x + right_reach, y, 'ro', markersize=8)\n",
        "    ax.text(x + right_reach / 2, y + 0.2, f'{sensors[\"right\"]:.1f}', color='red', fontweight='bold')\n",
        "\n",
        "    # 축 범위 자동 설정\n",
        "    max_x_range = max(right_reach, left_reach) + 1\n",
        "    ax.set_xlim(x - max_x_range, x + max_x_range)\n",
        "    ax.set_ylim(y - 1, y + front_reach + 2)\n",
        "\n",
        "    plt.tight_layout()\n",
        "    plt.show()\n",
        "\n",
        "# 실행 예시\n",
        "if __name__ == \"__main__\":\n",
        "    sensors = {\n",
        "        'front': 5.5,\n",
        "        'left': 2.0,\n",
        "        'right': 4.0\n",
        "    }\n",
        "    draw_sensors(0, 0, sensors)\n"
      ],
      "metadata": {
        "colab": {
          "base_uri": "https://localhost:8080/",
          "height": 484
        },
        "id": "ucj4Vlp3NQ6S",
        "outputId": "50e2cbfe-05b1-4245-fc8f-696889773f8a"
      },
      "execution_count": 6,
      "outputs": [
        {
          "output_type": "display_data",
          "data": {
            "text/plain": [
              "<Figure size 600x500 with 1 Axes>"
            ],
            "image/png": "[encoded data removed]"
          },
          "metadata": {}
        }
      ]
    }
  ]
}