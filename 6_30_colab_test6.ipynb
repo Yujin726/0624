{
  "nbformat": 4,
  "nbformat_minor": 0,
  "metadata": {
    "colab": {
      "provenance": [],
      "gpuType": "T4",
      "authorship_tag": "ABX9TyNwrxF6Yyh56y74W/aUPgRw",
      "include_colab_link": true
    },
    "kernelspec": {
      "name": "python3",
      "display_name": "Python 3"
    },
    "language_info": {
      "name": "python"
    },
    "accelerator": "GPU"
  },
  "cells": [
    {
      "cell_type": "markdown",
      "metadata": {
        "id": "view-in-github",
        "colab_type": "text"
      },
      "source": [
        "<a href=\"https://colab.research.google.com/github/Yujin726/0624/blob/main/6_30_colab_test6.ipynb\" target=\"_parent\"><img src=\"https://colab.research.google.com/assets/colab-badge.svg\" alt=\"Open In Colab\"/></a>"
      ]
    },
    {
      "cell_type": "markdown",
      "source": [
        "장애물 감지 프로그램"
      ],
      "metadata": {
        "id": "Ln1TlHsMUNAz"
      }
    },
    {
      "cell_type": "code",
      "execution_count": 1,
      "metadata": {
        "colab": {
          "base_uri": "https://localhost:8080/"
        },
        "id": "Tao-yQ9CSq2G",
        "outputId": "7aa6e041-c174-413c-82d5-1a051e8e4b61"
      },
      "outputs": [
        {
          "output_type": "stream",
          "name": "stdout",
          "text": [
            "장애물 감지 프로그램\n",
            "감지된 장애물 방향: 앞, 오른쪽\n",
            "프로그램 종료\n"
          ]
        }
      ],
      "source": [
        "sensor_data = {\n",
        "    \"앞\": 8.0,\n",
        "    \"왼쪽\": 15.0,\n",
        "    \"오른쪽\": 4.0\n",
        "}\n",
        "\n",
        "\n",
        "safe_distance = 10.0\n",
        "\n",
        "print(\"장애물 감지 프로그램\")\n",
        "\n",
        "# 빈 장애물 리스트 생성\n",
        "obstacles = []\n",
        "\n",
        "sensor_keys = list(sensor_data.keys())\n",
        "index = 0\n",
        "\n",
        "while True:\n",
        "    if sensor_data[sensor_keys[index]] < safe_distance:\n",
        "        obstacles.append(sensor_keys[index])\n",
        "\n",
        "    if index + 1 < len(sensor_keys):\n",
        "        index += 1\n",
        "    else:\n",
        "        if obstacles:\n",
        "            print(\"감지된 장애물 방향:\", \", \".join(obstacles))\n",
        "        else:\n",
        "            print(\"감지된 장애물이 없습니다.\")\n",
        "        print(\"프로그램 종료\")\n",
        "        break\n"
      ]
    },
    {
      "cell_type": "markdown",
      "source": [
        "장애물 감지 기반 경로 결정 시스템"
      ],
      "metadata": {
        "id": "g8_nE-qXUTpu"
      }
    },
    {
      "cell_type": "code",
      "source": [
        "sensor_data = {\n",
        "    \"앞\": 8.0,\n",
        "    \"왼쪽\": 15.0,\n",
        "    \"오른쪽\": 4.0\n",
        "}\n",
        "\n",
        "safe_distance = 10.0\n",
        "\n",
        "print(\"장애물 감지 기반 경로 결정 시스템\")\n",
        "\n",
        "# 빈 장애물 리스트 생성\n",
        "obstacles = []\n",
        "\n",
        "for direction, distance in sensor_data.items():\n",
        "    if distance < safe_distance:\n",
        "        obstacles.append(direction)\n",
        "\n",
        "print(\"감지된 장애물:\", obstacles)\n",
        "\n",
        "if len(obstacles) == 0:\n",
        "    action = \"직진\"\n",
        "else:\n",
        "    if \"앞\" in obstacles:\n",
        "\n",
        "        if \"왼쪽\" not in obstacles and \"오른쪽\" not in obstacles:\n",
        "            action = \"좌회전\"\n",
        "        elif \"왼쪽\" in obstacles and \"오른쪽\" not in obstacles:\n",
        "            action = \"우회전\"\n",
        "        elif \"왼쪽\" not in obstacles and \"오른쪽\" in obstacles:\n",
        "            action = \"좌회전\"\n",
        "        else:\n",
        "            action = \"정지\"\n",
        "    else:\n",
        "        action = \"주의해서 직진\"\n",
        "\n",
        "print(\"결정된 행동:\", action)\n",
        "print(\"프로그램 종료\")\n"
      ],
      "metadata": {
        "colab": {
          "base_uri": "https://localhost:8080/"
        },
        "id": "k_6mL2wyUKFk",
        "outputId": "34d7e870-6ebd-4efa-f0de-de6d9c87313c"
      },
      "execution_count": 6,
      "outputs": [
        {
          "output_type": "stream",
          "name": "stdout",
          "text": [
            "장애물 감지 기반 경로 결정 시스템\n",
            "감지된 장애물: ['앞', '오른쪽']\n",
            "결정된 행동: 좌회전\n",
            "프로그램 종료\n"
          ]
        }
      ]
    }
  ]
}