{
  "nbformat": 4,
  "nbformat_minor": 0,
  "metadata": {
    "colab": {
      "provenance": [],
      "authorship_tag": "ABX9TyOGW+QRplP6VBpNOP3mDHko",
      "include_colab_link": true
    },
    "kernelspec": {
      "name": "python3",
      "display_name": "Python 3"
    },
    "language_info": {
      "name": "python"
    }
  },
  "cells": [
    {
      "cell_type": "markdown",
      "metadata": {
        "id": "view-in-github",
        "colab_type": "text"
      },
      "source": [
        "<a href=\"https://colab.research.google.com/github/Yujin726/0624/blob/main/6_24_colab_test2.ipynb\" target=\"_parent\"><img src=\"https://colab.research.google.com/assets/colab-badge.svg\" alt=\"Open In Colab\"/></a>"
      ]
    },
    {
      "cell_type": "markdown",
      "source": [
        "평균 sample1. 5명의 키 평균 계산 프로그램"
      ],
      "metadata": {
        "id": "GaeAVZcN2Z2A"
      }
    },
    {
      "cell_type": "code",
      "execution_count": 1,
      "metadata": {
        "colab": {
          "base_uri": "https://localhost:8080/"
        },
        "id": "eVo7WEZazXVX",
        "outputId": "12253537-643f-446f-fbc2-be385fed49ff"
      },
      "outputs": [
        {
          "output_type": "stream",
          "name": "stdout",
          "text": [
            "키의 합계: 852\n",
            "평균 키: 170.4\n"
          ]
        }
      ],
      "source": [
        "# 사람 수\n",
        "man_count = 5\n",
        "\n",
        "# 각 사람의 키\n",
        "heights_1 = 160\n",
        "heights_2 = 180\n",
        "heights_3 = 155\n",
        "heights_4 = 175\n",
        "heights_5 = 182\n",
        "\n",
        "# 키 합계 구하기\n",
        "sum = heights_1 + heights_2 + heights_3 + heights_4 + heights_5\n",
        "\n",
        "# 평균 구하기\n",
        "average = sum / man_count\n",
        "\n",
        "# 결과 출력\n",
        "print(\"키의 합계:\", sum)\n",
        "print(\"평균 키:\", average)"
      ]
    },
    {
      "cell_type": "markdown",
      "source": [
        "평균 sample2. 170cm가 넘는 사람들만 골라 평균을 계산"
      ],
      "metadata": {
        "id": "HkHSjV7h2Xtm"
      }
    },
    {
      "cell_type": "code",
      "source": [
        "# 사람 수\n",
        "man_count = 5\n",
        "\n",
        "# 각 사람의 키\n",
        "heights_1 = 160\n",
        "heights_2 = 180\n",
        "heights_3 = 155\n",
        "heights_4 = 175\n",
        "heights_5 = 182\n",
        "\n",
        "# 170 넘는 키의 합계와 인원 수 초기화\n",
        "sum = 0\n",
        "count = 0\n",
        "\n",
        "# 각각 조건 체크 후 누적\n",
        "if heights_1 > 170:\n",
        "    sum += heights_1\n",
        "    count += 1\n",
        "\n",
        "if heights_2 > 170:\n",
        "    sum += heights_2\n",
        "    count += 1\n",
        "\n",
        "if heights_3 > 170:\n",
        "    sum += heights_3\n",
        "    count += 1\n",
        "\n",
        "if heights_4 > 170:\n",
        "    sum += heights_4\n",
        "    count += 1\n",
        "\n",
        "if heights_5 > 170:\n",
        "    sum += heights_5\n",
        "    count += 1\n",
        "\n",
        "# 평균 계산 (170 넘는 사람이 있을 때만)\n",
        "if count > 0:\n",
        "    average = sum / count\n",
        "    print(\"170cm 넘는 사람 수:\", count)\n",
        "    print(\"170cm 넘는 사람들의 평균 키:\", average)\n",
        "else:\n",
        "    print(\"170cm 넘는 사람이 없습니다.\")\n"
      ],
      "metadata": {
        "colab": {
          "base_uri": "https://localhost:8080/"
        },
        "id": "1wTXtB5z1R4R",
        "outputId": "002c779f-95c7-4d67-ca8e-d6ac5953b0d4"
      },
      "execution_count": 2,
      "outputs": [
        {
          "output_type": "stream",
          "name": "stdout",
          "text": [
            "170cm 넘는 사람 수: 3\n",
            "170cm 넘는 사람들의 평균 키: 179.0\n"
          ]
        }
      ]
    },
    {
      "cell_type": "markdown",
      "source": [
        "if문 sample1. 신호등 판단 → 정지 또는 진행"
      ],
      "metadata": {
        "id": "DYYYOyhW3M9V"
      }
    },
    {
      "cell_type": "code",
      "source": [
        "traffic_light = \"red\"  # 신호등 색: red, yellow, green\n",
        "\n",
        "if traffic_light == \"red\":\n",
        "    print(\"정지합니다.\")\n",
        "elif traffic_light == \"yellow\":\n",
        "    print(\"감속합니다.\")\n",
        "elif traffic_light == \"green\":\n",
        "    print(\"출발합니다.\")\n"
      ],
      "metadata": {
        "colab": {
          "base_uri": "https://localhost:8080/"
        },
        "id": "8XdFovp920h-",
        "outputId": "fe6d2a63-c6e5-4aa1-db52-a9c3198ae95e"
      },
      "execution_count": 3,
      "outputs": [
        {
          "output_type": "stream",
          "name": "stdout",
          "text": [
            "정지합니다.\n"
          ]
        }
      ]
    },
    {
      "cell_type": "markdown",
      "source": [
        "if문 sample2. 장애물 거리 판단 → 정지 여부 결정"
      ],
      "metadata": {
        "id": "Sza3axVd2CKI"
      }
    },
    {
      "cell_type": "code",
      "source": [
        "obstacle_distance = 0.8  # 단위: 미터 (예: 0.8m 앞에 장애물)\n",
        "\n",
        "if obstacle_distance < 1.0:\n",
        "    print(\"긴급 정지! 너무 가까워요.\")\n",
        "else:\n",
        "    print(\"주행 계속.\")\n"
      ],
      "metadata": {
        "colab": {
          "base_uri": "https://localhost:8080/"
        },
        "id": "YOnNHNDh1_M0",
        "outputId": "3675de93-debb-4f44-8a26-e4d647ae4aea"
      },
      "execution_count": 4,
      "outputs": [
        {
          "output_type": "stream",
          "name": "stdout",
          "text": [
            "긴급 정지! 너무 가까워요.\n"
          ]
        }
      ]
    },
    {
      "cell_type": "markdown",
      "source": [
        " if문 sample3. 차선 이탈 여부 확인 → 경고"
      ],
      "metadata": {
        "id": "CKZFUbiz12r6"
      }
    },
    {
      "cell_type": "code",
      "source": [
        "lane_detected = True\n",
        "vehicle_in_lane = False\n",
        "\n",
        "if lane_detected and not vehicle_in_lane:\n",
        "    print(\"차선 이탈! 경고 알림 발생.\")\n",
        "else:\n",
        "    print(\"차선 유지 중.\")\n"
      ],
      "metadata": {
        "colab": {
          "base_uri": "https://localhost:8080/"
        },
        "id": "rVnIB4-F11FS",
        "outputId": "2dea2481-d8a3-45df-9f44-36d3a9e2fe65"
      },
      "execution_count": 5,
      "outputs": [
        {
          "output_type": "stream",
          "name": "stdout",
          "text": [
            "차선 이탈! 경고 알림 발생.\n"
          ]
        }
      ]
    }
  ]
}