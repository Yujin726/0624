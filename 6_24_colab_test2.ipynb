{
  "nbformat": 4,
  "nbformat_minor": 0,
  "metadata": {
    "colab": {
      "provenance": [],
      "authorship_tag": "ABX9TyPsW+kt0YEawoozycedZuUv",
      "include_colab_link": true
    },
    "kernelspec": {
      "name": "python3",
      "display_name": "Python 3"
    },
    "language_info": {
      "name": "python"
    }
  },
  "cells": [
    {
      "cell_type": "markdown",
      "metadata": {
        "id": "view-in-github",
        "colab_type": "text"
      },
      "source": [
        "<a href=\"https://colab.research.google.com/github/Yujin726/0624/blob/main/6_24_colab_test2.ipynb\" target=\"_parent\"><img src=\"https://colab.research.google.com/assets/colab-badge.svg\" alt=\"Open In Colab\"/></a>"
      ]
    },
    {
      "cell_type": "markdown",
      "source": [
        "평균 sample1. 5명의 키 평균 계산 프로그램"
      ],
      "metadata": {
        "id": "GaeAVZcN2Z2A"
      }
    },
    {
      "cell_type": "code",
      "execution_count": 1,
      "metadata": {
        "colab": {
          "base_uri": "https://localhost:8080/"
        },
        "id": "eVo7WEZazXVX",
        "outputId": "37e0a8e1-d216-4e1f-e1bb-c6a2e83c225e"
      },
      "outputs": [
        {
          "output_type": "stream",
          "name": "stdout",
          "text": [
            "키의 합계: 852\n",
            "평균 키: 170.4\n"
          ]
        }
      ],
      "source": [
        "# 사람 수\n",
        "man_count = 5\n",
        "\n",
        "# 각 사람의 키\n",
        "heights_1 = 160\n",
        "heights_2 = 180\n",
        "heights_3 = 155\n",
        "heights_4 = 175\n",
        "heights_5 = 182\n",
        "\n",
        "# 키 합계 구하기\n",
        "sum = heights_1 + heights_2 + heights_3 + heights_4 + heights_5\n",
        "\n",
        "# 평균 구하기\n",
        "average = sum / man_count\n",
        "\n",
        "# 결과 출력\n",
        "print(\"키의 합계:\", sum)\n",
        "print(\"평균 키:\", average)"
      ]
    },
    {
      "cell_type": "markdown",
      "source": [
        "평균 sample2. 170cm가 넘는 사람들만 골라 평균을 계산"
      ],
      "metadata": {
        "id": "HkHSjV7h2Xtm"
      }
    },
    {
      "cell_type": "code",
      "source": [
        "# 사람 수\n",
        "man_count = 5\n",
        "\n",
        "# 각 사람의 키\n",
        "heights_1 = 160\n",
        "heights_2 = 180\n",
        "heights_3 = 155\n",
        "heights_4 = 175\n",
        "heights_5 = 182\n",
        "\n",
        "# 170 넘는 키의 합계와 인원 수 초기화\n",
        "sum = 0\n",
        "count = 0\n",
        "\n",
        "# 각각 조건 체크 후 누적\n",
        "if heights_1 > 170:\n",
        "    sum += heights_1\n",
        "    count += 1\n",
        "\n",
        "if heights_2 > 170:\n",
        "    sum += heights_2\n",
        "    count += 1\n",
        "\n",
        "if heights_3 > 170:\n",
        "    sum += heights_3\n",
        "    count += 1\n",
        "\n",
        "if heights_4 > 170:\n",
        "    sum += heights_4\n",
        "    count += 1\n",
        "\n",
        "if heights_5 > 170:\n",
        "    sum += heights_5\n",
        "    count += 1\n",
        "\n",
        "# 평균 계산 (170 넘는 사람이 있을 때만)\n",
        "if count > 0:\n",
        "    average = sum / count\n",
        "    print(\"170cm 넘는 사람 수:\", count)\n",
        "    print(\"170cm 넘는 사람들의 평균 키:\", average)\n",
        "else:\n",
        "    print(\"170cm 넘는 사람이 없습니다.\")\n"
      ],
      "metadata": {
        "colab": {
          "base_uri": "https://localhost:8080/"
        },
        "id": "1wTXtB5z1R4R",
        "outputId": "9af3c769-7204-449d-c251-5c16ba0ce697"
      },
      "execution_count": 2,
      "outputs": [
        {
          "output_type": "stream",
          "name": "stdout",
          "text": [
            "170cm 넘는 사람 수: 3\n",
            "170cm 넘는 사람들의 평균 키: 179.0\n"
          ]
        }
      ]
    },
    {
      "cell_type": "markdown",
      "source": [
        "if문 sample1. 신호등 판단 → 정지 또는 진행"
      ],
      "metadata": {
        "id": "DYYYOyhW3M9V"
      }
    },
    {
      "cell_type": "code",
      "source": [
        "traffic_light = \"red\"  # 신호등 색: red, yellow, green\n",
        "\n",
        "if traffic_light == \"red\":\n",
        "    print(\"정지합니다.\")\n",
        "elif traffic_light == \"yellow\":\n",
        "    print(\"감속합니다.\")\n",
        "elif traffic_light == \"green\":\n",
        "    print(\"출발합니다.\")\n"
      ],
      "metadata": {
        "colab": {
          "base_uri": "https://localhost:8080/"
        },
        "id": "8XdFovp920h-",
        "outputId": "2def903b-2741-4dd0-85e7-a9e7fd014e3e"
      },
      "execution_count": 3,
      "outputs": [
        {
          "output_type": "stream",
          "name": "stdout",
          "text": [
            "정지합니다.\n"
          ]
        }
      ]
    },
    {
      "cell_type": "markdown",
      "source": [
        "if문 sample2. 장애물 거리 판단 → 정지 여부 결정"
      ],
      "metadata": {
        "id": "Sza3axVd2CKI"
      }
    },
    {
      "cell_type": "code",
      "source": [
        "obstacle_distance = 0.8  # 단위: 미터 (예: 0.8m 앞에 장애물)\n",
        "\n",
        "if obstacle_distance < 1.0:\n",
        "    print(\"긴급 정지! 너무 가까워요.\")\n",
        "else:\n",
        "    print(\"주행 계속.\")\n"
      ],
      "metadata": {
        "colab": {
          "base_uri": "https://localhost:8080/"
        },
        "id": "YOnNHNDh1_M0",
        "outputId": "a45b6b3a-ac77-4d18-b611-8787dcb1ea80"
      },
      "execution_count": 4,
      "outputs": [
        {
          "output_type": "stream",
          "name": "stdout",
          "text": [
            "긴급 정지! 너무 가까워요.\n"
          ]
        }
      ]
    },
    {
      "cell_type": "markdown",
      "source": [
        " if문 sample3. 차선 이탈 여부 확인 → 경고"
      ],
      "metadata": {
        "id": "CKZFUbiz12r6"
      }
    },
    {
      "cell_type": "code",
      "source": [
        "lane_detected = True\n",
        "vehicle_in_lane = False\n",
        "\n",
        "if lane_detected and not vehicle_in_lane:\n",
        "    print(\"차선 이탈! 경고 알림 발생.\")\n",
        "else:\n",
        "    print(\"차선 유지 중.\")\n"
      ],
      "metadata": {
        "colab": {
          "base_uri": "https://localhost:8080/"
        },
        "id": "rVnIB4-F11FS",
        "outputId": "2f991fb6-b6bd-447c-c96c-3baf4cf05831"
      },
      "execution_count": 5,
      "outputs": [
        {
          "output_type": "stream",
          "name": "stdout",
          "text": [
            "차선 이탈! 경고 알림 발생.\n"
          ]
        }
      ]
    },
    {
      "cell_type": "markdown",
      "source": [
        "if문 sample4. 보행자 감지 여부 → 일시 정지"
      ],
      "metadata": {
        "id": "cSxxdbZ27Qos"
      }
    },
    {
      "cell_type": "code",
      "source": [
        "pedestrian_detected = True\n",
        "\n",
        "if pedestrian_detected:\n",
        "    print(\"보행자 감지! 정지합니다.\")\n",
        "else:\n",
        "    print(\"주행 계속\")\n"
      ],
      "metadata": {
        "colab": {
          "base_uri": "https://localhost:8080/"
        },
        "id": "1E1L3YWh7Ut5",
        "outputId": "6ae361b7-3d76-4a5b-f7bb-d488acbdb6c1"
      },
      "execution_count": 6,
      "outputs": [
        {
          "output_type": "stream",
          "name": "stdout",
          "text": [
            "보행자 감지! 정지합니다.\n"
          ]
        }
      ]
    },
    {
      "cell_type": "markdown",
      "source": [
        "if문 sample5. 전방 차량과의 거리 판단 → 안전거리 유지 여부"
      ],
      "metadata": {
        "id": "3Uuou6di7YL5"
      }
    },
    {
      "cell_type": "code",
      "source": [
        "distance_to_front = 5.0  # 앞차와의 거리 (m)\n",
        "\n",
        "if distance_to_front < 3.0:\n",
        "    print(\"앞차와 너무 가까움! 브레이크 작동\")\n",
        "else:\n",
        "    print(\"안전거리 유지 중\")\n"
      ],
      "metadata": {
        "id": "J8IdQ7eU7nP2",
        "outputId": "c7c83329-cc37-4c35-bafc-386845ce6bbb",
        "colab": {
          "base_uri": "https://localhost:8080/"
        }
      },
      "execution_count": 7,
      "outputs": [
        {
          "output_type": "stream",
          "name": "stdout",
          "text": [
            "안전거리 유지 중\n"
          ]
        }
      ]
    }
  ]
}