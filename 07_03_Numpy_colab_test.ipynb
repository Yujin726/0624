{
  "nbformat": 4,
  "nbformat_minor": 0,
  "metadata": {
    "colab": {
      "provenance": [],
      "gpuType": "T4",
      "authorship_tag": "ABX9TyPHPIBtxEnnAakxOJI3jWut",
      "include_colab_link": true
    },
    "kernelspec": {
      "name": "python3",
      "display_name": "Python 3"
    },
    "language_info": {
      "name": "python"
    },
    "accelerator": "GPU"
  },
  "cells": [
    {
      "cell_type": "markdown",
      "metadata": {
        "id": "view-in-github",
        "colab_type": "text"
      },
      "source": [
        "<a href=\"https://colab.research.google.com/github/Yujin726/0624/blob/main/07_03_Numpy_colab_test.ipynb\" target=\"_parent\"><img src=\"https://colab.research.google.com/assets/colab-badge.svg\" alt=\"Open In Colab\"/></a>"
      ]
    },
    {
      "cell_type": "markdown",
      "source": [
        "# 1단계: NumPy 기초 - 자율주행 센서 데이터 처리\n",
        "#### 코랩에서 바로 실행 가능!"
      ],
      "metadata": {
        "id": "I3csopQE2BiZ"
      }
    },
    {
      "cell_type": "code",
      "source": [
        "import numpy as np\n",
        "print(\"🚗 자율주행 NumPy 기초 학습 시작!\")\n",
        "print(\"📦 NumPy 버전:\", np.__version__)\n",
        "print()"
      ],
      "metadata": {
        "colab": {
          "base_uri": "https://localhost:8080/"
        },
        "id": "fcN9tT801-d6",
        "outputId": "6e4ccb3e-389a-4ab7-f477-58cb0a93cb47"
      },
      "execution_count": 1,
      "outputs": [
        {
          "output_type": "stream",
          "name": "stdout",
          "text": [
            "🚗 자율주행 NumPy 기초 학습 시작!\n",
            "📦 NumPy 버전: 2.0.2\n",
            "\n"
          ]
        }
      ]
    },
    {
      "cell_type": "markdown",
      "source": [
        "# ===== 1. NumPy 배열 기초 ====="
      ],
      "metadata": {
        "id": "49-UO6x12Itk"
      }
    },
    {
      "cell_type": "markdown",
      "source": [
        "# 1-1. 리스트를 NumPy 배열로 변환"
      ],
      "metadata": {
        "id": "Yz-QSI_M2TDg"
      }
    },
    {
      "cell_type": "code",
      "source": [
        "# 1-1. 리스트를 NumPy 배열로 변환\n",
        "print(\"📊 1-1. 센서 거리 데이터\")\n",
        "sensor_distances = [8.5, 12.3, 15.7, 2.1, 9.8]  # 파이썬 리스트\n",
        "print(\"원본 리스트:\", sensor_distances)\n",
        "print(\"리스트 타입:\", type(sensor_distances))\n",
        "\n",
        "# NumPy 배열로 변환\n",
        "np_distances = np.array(sensor_distances)\n",
        "print(\"NumPy 배열:\", np_distances)\n",
        "print(\"NumPy 타입:\", type(np_distances))\n",
        "print(\"배열 모양:\", np_distances.shape)\n",
        "print(\"배열 크기:\", np_distances.size)\n",
        "print()"
      ],
      "metadata": {
        "colab": {
          "base_uri": "https://localhost:8080/"
        },
        "id": "piMHv8Um2RKa",
        "outputId": "4969ae1a-78c0-42cb-9a95-709fc1853482"
      },
      "execution_count": 2,
      "outputs": [
        {
          "output_type": "stream",
          "name": "stdout",
          "text": [
            "📊 1-1. 센서 거리 데이터\n",
            "원본 리스트: [8.5, 12.3, 15.7, 2.1, 9.8]\n",
            "리스트 타입: <class 'list'>\n",
            "NumPy 배열: [ 8.5 12.3 15.7  2.1  9.8]\n",
            "NumPy 타입: <class 'numpy.ndarray'>\n",
            "배열 모양: (5,)\n",
            "배열 크기: 5\n",
            "\n"
          ]
        }
      ]
    },
    {
      "cell_type": "markdown",
      "source": [
        "# 1-2. 직접 배열 생성"
      ],
      "metadata": {
        "id": "NgMzXNaE1o75"
      }
    },
    {
      "cell_type": "code",
      "execution_count": 3,
      "metadata": {
        "id": "nTHOHY3SzcF8",
        "colab": {
          "base_uri": "https://localhost:8080/"
        },
        "outputId": "2d2cc091-4316-42e9-a9e4-addb4ecc8118"
      },
      "outputs": [
        {
          "output_type": "stream",
          "name": "stdout",
          "text": [
            "📊 1-2. 다양한 배열 생성 방법\n",
            "0으로 채운 배열: [0. 0. 0. 0. 0.]\n",
            "1로 채운 배열: [1. 1. 1. 1.]\n",
            "범위 배열 (0~10, 2씩): [0 2 4 6 8]\n",
            "구간 배열 (0~100, 5개): [  0.  25.  50.  75. 100.]\n",
            "\n"
          ]
        }
      ],
      "source": [
        "# 1-2. 직접 배열 생성\n",
        "print(\"📊 1-2. 다양한 배열 생성 방법\")\n",
        "zeros_array = np.zeros(5)  # 0으로 채운 배열\n",
        "ones_array = np.ones(4)    # 1로 채운 배열\n",
        "range_array = np.arange(0, 10, 2)  # 0부터 10까지 2씩 증가\n",
        "linspace_array = np.linspace(0, 100, 5)  # 0부터 100까지 5개 구간\n",
        "\n",
        "print(\"0으로 채운 배열:\", zeros_array)\n",
        "print(\"1로 채운 배열:\", ones_array)\n",
        "print(\"범위 배열 (0~10, 2씩):\", range_array)\n",
        "print(\"구간 배열 (0~100, 5개):\", linspace_array)\n",
        "print()"
      ]
    },
    {
      "cell_type": "markdown",
      "source": [
        "# ===== 2. 배열 연산 ====="
      ],
      "metadata": {
        "id": "Ebed7ZWb1y60"
      }
    },
    {
      "cell_type": "markdown",
      "source": [
        "# 2-1. 기본 산술 연산"
      ],
      "metadata": {
        "id": "qurRVi7916D0"
      }
    },
    {
      "cell_type": "code",
      "source": [
        "# 2-1. 기본 산술 연산\n",
        "print(\"📊 2-1. 센서 데이터 계산\")\n",
        "distances = np.array([8.5, 12.3, 15.7, 2.1, 9.8])\n",
        "print(\"원본 거리:\", distances)\n",
        "\n",
        "# 모든 값에 동일한 연산 적용\n",
        "distances_in_cm = distances * 100  # 미터를 센티미터로\n",
        "distances_plus_offset = distances + 1.5  # 모든 값에 1.5 더하기\n",
        "\n",
        "print(\"센티미터 변환:\", distances_in_cm)\n",
        "print(\"오프셋 적용:\", distances_plus_offset)\n",
        "print()"
      ],
      "metadata": {
        "colab": {
          "base_uri": "https://localhost:8080/"
        },
        "id": "JkPfOOtH16X-",
        "outputId": "9068196b-c1c0-426c-c122-8d2e12652779"
      },
      "execution_count": 4,
      "outputs": [
        {
          "output_type": "stream",
          "name": "stdout",
          "text": [
            "📊 2-1. 센서 데이터 계산\n",
            "원본 거리: [ 8.5 12.3 15.7  2.1  9.8]\n",
            "센티미터 변환: [ 850. 1230. 1570.  210.  980.]\n",
            "오프셋 적용: [10.  13.8 17.2  3.6 11.3]\n",
            "\n"
          ]
        }
      ]
    },
    {
      "cell_type": "markdown",
      "source": [
        "# 2-2. 배열 간 연산"
      ],
      "metadata": {
        "id": "I3ivGdzk2krP"
      }
    },
    {
      "cell_type": "code",
      "source": [
        "# 2-2. 배열 간 연산\n",
        "print(\"📊 2-2. 두 센서 데이터 비교\")\n",
        "front_sensors = np.array([8.5, 12.3, 15.7])\n",
        "rear_sensors = np.array([6.2, 9.1, 13.4])\n",
        "\n",
        "print(\"전방 센서:\", front_sensors)\n",
        "print(\"후방 센서:\", rear_sensors)\n",
        "print(\"센서 차이:\", front_sensors - rear_sensors)\n",
        "print(\"평균 거리:\", (front_sensors + rear_sensors) / 2)\n",
        "print()"
      ],
      "metadata": {
        "colab": {
          "base_uri": "https://localhost:8080/"
        },
        "id": "7JaXEtj62iPZ",
        "outputId": "05eb4899-e99c-40d8-9859-43fc607e2415"
      },
      "execution_count": 5,
      "outputs": [
        {
          "output_type": "stream",
          "name": "stdout",
          "text": [
            "📊 2-2. 두 센서 데이터 비교\n",
            "전방 센서: [ 8.5 12.3 15.7]\n",
            "후방 센서: [ 6.2  9.1 13.4]\n",
            "센서 차이: [2.3 3.2 2.3]\n",
            "평균 거리: [ 7.35 10.7  14.55]\n",
            "\n"
          ]
        }
      ]
    },
    {
      "cell_type": "markdown",
      "source": [
        "# ===== 3. 배열 통계 함수 ====="
      ],
      "metadata": {
        "id": "NY9f6qpk2rTc"
      }
    },
    {
      "cell_type": "markdown",
      "source": [
        "# 3-1. 센서 데이터 통계"
      ],
      "metadata": {
        "id": "xYQOXJkD2_16"
      }
    },
    {
      "cell_type": "code",
      "source": [
        "print(\"📊 3-1. 센서 데이터 통계\")\n",
        "all_distances = np.array([8.5, 12.3, 15.7, 2.1, 9.8, 6.2, 11.4, 3.9])\n",
        "print(\"전체 센서 데이터:\", all_distances)\n",
        "\n",
        "print(\"최대값:\", np.max(all_distances))\n",
        "print(\"최소값:\", np.min(all_distances))\n",
        "print(\"평균값:\", np.mean(all_distances))\n",
        "print(\"중간값:\", np.median(all_distances))\n",
        "print(\"표준편차:\", np.std(all_distances))\n",
        "print(\"합계:\", np.sum(all_distances))\n",
        "print()"
      ],
      "metadata": {
        "colab": {
          "base_uri": "https://localhost:8080/"
        },
        "id": "JrsqU2mv255s",
        "outputId": "4afbc3c4-ad05-48f8-9d0a-9301ec6910b3"
      },
      "execution_count": 6,
      "outputs": [
        {
          "output_type": "stream",
          "name": "stdout",
          "text": [
            "📊 3-1. 센서 데이터 통계\n",
            "전체 센서 데이터: [ 8.5 12.3 15.7  2.1  9.8  6.2 11.4  3.9]\n",
            "최대값: 15.7\n",
            "최소값: 2.1\n",
            "평균값: 8.7375\n",
            "중간값: 9.15\n",
            "표준편차: 4.232888346035128\n",
            "합계: 69.9\n",
            "\n"
          ]
        }
      ]
    },
    {
      "cell_type": "markdown",
      "source": [
        "# 3-2. 인덱스 찾기"
      ],
      "metadata": {
        "id": "wXdgx0Fj3MvX"
      }
    },
    {
      "cell_type": "code",
      "source": [
        "# 3-2. 인덱스 찾기\n",
        "print(\"📊 3-2. 특정 값의 위치 찾기\")\n",
        "max_index = np.argmax(all_distances)  # 최대값의 인덱스\n",
        "min_index = np.argmin(all_distances)  # 최소값의 인덱스\n",
        "\n",
        "print(f\"가장 먼 거리: {all_distances[max_index]}m (인덱스: {max_index})\")\n",
        "print(f\"가장 가까운 거리: {all_distances[min_index]}m (인덱스: {min_index})\")\n",
        "print()"
      ],
      "metadata": {
        "colab": {
          "base_uri": "https://localhost:8080/"
        },
        "id": "SvGtGMh53KuZ",
        "outputId": "5fbcf33b-5fe9-49b3-b707-bfc196779b9f"
      },
      "execution_count": 7,
      "outputs": [
        {
          "output_type": "stream",
          "name": "stdout",
          "text": [
            "📊 3-2. 특정 값의 위치 찾기\n",
            "가장 먼 거리: 15.7m (인덱스: 2)\n",
            "가장 가까운 거리: 2.1m (인덱스: 3)\n",
            "\n"
          ]
        }
      ]
    },
    {
      "cell_type": "markdown",
      "source": [
        "# ===== 4. 조건부 필터링 ====="
      ],
      "metadata": {
        "id": "miTz1Eno3WFC"
      }
    },
    {
      "cell_type": "markdown",
      "source": [
        "# 4-1. 조건으로 데이터 선택"
      ],
      "metadata": {
        "id": "d6U2Tvxl3ciA"
      }
    },
    {
      "cell_type": "code",
      "source": [
        "# 4-1. 조건으로 데이터 선택\n",
        "print(\"📊 4-1. 위험 거리 감지 (5m 이하)\")\n",
        "dangerous_mask = all_distances <= 5.0  # 조건 마스크 생성\n",
        "print(\"조건 마스크:\", dangerous_mask)\n",
        "\n",
        "dangerous_distances = all_distances[dangerous_mask]  # 조건에 맞는 값들\n",
        "safe_distances = all_distances[all_distances > 5.0]  # 한 줄로 표현\n",
        "\n",
        "print(\"위험 거리:\", dangerous_distances)\n",
        "print(\"안전 거리:\", safe_distances)\n",
        "print(\"위험 센서 개수:\", len(dangerous_distances))\n",
        "print(\"안전 센서 개수:\", len(safe_distances))\n",
        "print()"
      ],
      "metadata": {
        "colab": {
          "base_uri": "https://localhost:8080/"
        },
        "id": "fAGc73l73Ro1",
        "outputId": "f72b62d3-96c7-410e-8d2e-fc3c083f0e8c"
      },
      "execution_count": 8,
      "outputs": [
        {
          "output_type": "stream",
          "name": "stdout",
          "text": [
            "📊 4-1. 위험 거리 감지 (5m 이하)\n",
            "조건 마스크: [False False False  True False False False  True]\n",
            "위험 거리: [2.1 3.9]\n",
            "안전 거리: [ 8.5 12.3 15.7  9.8  6.2 11.4]\n",
            "위험 센서 개수: 2\n",
            "안전 센서 개수: 6\n",
            "\n"
          ]
        }
      ]
    },
    {
      "cell_type": "markdown",
      "source": [
        "# 4-2. 복합 조건"
      ],
      "metadata": {
        "id": "yPu0dQaJ3bi5"
      }
    },
    {
      "cell_type": "code",
      "source": [
        "# 4-2. 복합 조건\n",
        "print(\"📊 4-2. 복합 조건 (5m 이하 OR 15m 이상)\")\n",
        "extreme_distances = all_distances[(all_distances <= 5.0) | (all_distances >= 15.0)]\n",
        "print(\"극한 거리 (너무 가깝거나 너무 먼):\", extreme_distances)\n",
        "\n",
        "normal_distances = all_distances[(all_distances > 5.0) & (all_distances < 15.0)]\n",
        "print(\"정상 범위 거리:\", normal_distances)\n",
        "print()"
      ],
      "metadata": {
        "colab": {
          "base_uri": "https://localhost:8080/"
        },
        "id": "e-074JnH3lpj",
        "outputId": "6ad5dd61-97dd-459b-9d0c-2faf775e9d52"
      },
      "execution_count": 9,
      "outputs": [
        {
          "output_type": "stream",
          "name": "stdout",
          "text": [
            "📊 4-2. 복합 조건 (5m 이하 OR 15m 이상)\n",
            "극한 거리 (너무 가깝거나 너무 먼): [15.7  2.1  3.9]\n",
            "정상 범위 거리: [ 8.5 12.3  9.8  6.2 11.4]\n",
            "\n"
          ]
        }
      ]
    },
    {
      "cell_type": "markdown",
      "source": [
        "# 5-1. 2D 센서 배열 생성"
      ],
      "metadata": {
        "id": "goz-qiMX3xYU"
      }
    },
    {
      "cell_type": "code",
      "source": [
        "# 5-1. 2D 센서 배열 생성\n",
        "print(\"📊 5-1. 다방향 센서 매트릭스\")\n",
        "# 4x4 센서 그리드 (전방, 우측, 후방, 좌측)\n",
        "sensor_matrix = np.array([\n",
        "    [8.5, 12.3, 15.7, 11.2],  # 전방 4개 센서\n",
        "    [9.1, 6.8, 13.4, 7.5],    # 우측 4개 센서\n",
        "    [10.2, 8.9, 14.1, 9.7],   # 후방 4개 센서\n",
        "    [7.3, 11.6, 12.8, 6.4]    # 좌측 4개 센서\n",
        "])\n",
        "\n",
        "print(\"센서 매트릭스:\")\n",
        "print(sensor_matrix)\n",
        "print(\"매트릭스 모양:\", sensor_matrix.shape)  # (행, 열)\n",
        "print(\"총 센서 개수:\", sensor_matrix.size)\n",
        "print()"
      ],
      "metadata": {
        "colab": {
          "base_uri": "https://localhost:8080/"
        },
        "id": "Ein7ezEI3xyr",
        "outputId": "61fb64ec-1ca4-420a-9c92-3f59639fe490"
      },
      "execution_count": 10,
      "outputs": [
        {
          "output_type": "stream",
          "name": "stdout",
          "text": [
            "📊 5-1. 다방향 센서 매트릭스\n",
            "센서 매트릭스:\n",
            "[[ 8.5 12.3 15.7 11.2]\n",
            " [ 9.1  6.8 13.4  7.5]\n",
            " [10.2  8.9 14.1  9.7]\n",
            " [ 7.3 11.6 12.8  6.4]]\n",
            "매트릭스 모양: (4, 4)\n",
            "총 센서 개수: 16\n",
            "\n"
          ]
        }
      ]
    },
    {
      "cell_type": "markdown",
      "source": [
        "# 5-2. 행/열별 연산"
      ],
      "metadata": {
        "id": "CHiVttH235UR"
      }
    },
    {
      "cell_type": "code",
      "source": [
        "# 5-2. 행/열별 연산\n",
        "print(\"📊 5-2. 방향별 센서 분석\")\n",
        "print(\"전방 센서 (첫 번째 행):\", sensor_matrix[0])\n",
        "print(\"전방 센서 평균:\", np.mean(sensor_matrix[0]))\n",
        "\n",
        "print(\"모든 방향 평균:\")\n",
        "direction_names = ['전방', '우측', '후방', '좌측']\n",
        "for i, direction in enumerate(direction_names):\n",
        "    avg_distance = np.mean(sensor_matrix[i])\n",
        "    print(f\"  {direction}: {avg_distance:.2f}m\")\n",
        "print()"
      ],
      "metadata": {
        "colab": {
          "base_uri": "https://localhost:8080/"
        },
        "id": "0lxJcve036BF",
        "outputId": "2f6fcb1d-1406-42b6-9f0b-c4b0c95f6990"
      },
      "execution_count": 11,
      "outputs": [
        {
          "output_type": "stream",
          "name": "stdout",
          "text": [
            "📊 5-2. 방향별 센서 분석\n",
            "전방 센서 (첫 번째 행): [ 8.5 12.3 15.7 11.2]\n",
            "전방 센서 평균: 11.925\n",
            "모든 방향 평균:\n",
            "  전방: 11.93m\n",
            "  우측: 9.20m\n",
            "  후방: 10.73m\n",
            "  좌측: 9.53m\n",
            "\n"
          ]
        }
      ]
    },
    {
      "cell_type": "markdown",
      "source": [
        "# 5-3. 전체 매트릭스 연산"
      ],
      "metadata": {
        "id": "JHJ-QBq34AQB"
      }
    },
    {
      "cell_type": "code",
      "source": [
        "# 5-3. 전체 매트릭스 연산\n",
        "print(\"📊 5-3. 전체 센서 통계\")\n",
        "print(\"전체 평균:\", np.mean(sensor_matrix))\n",
        "print(\"전체 최대:\", np.max(sensor_matrix))\n",
        "print(\"전체 최소:\", np.min(sensor_matrix))"
      ],
      "metadata": {
        "colab": {
          "base_uri": "https://localhost:8080/"
        },
        "id": "hW-wkPln4AnL",
        "outputId": "40d8dd9a-40a6-4445-9741-a8e9eb2194d2"
      },
      "execution_count": 12,
      "outputs": [
        {
          "output_type": "stream",
          "name": "stdout",
          "text": [
            "📊 5-3. 전체 센서 통계\n",
            "전체 평균: 10.34375\n",
            "전체 최대: 15.7\n",
            "전체 최소: 6.4\n"
          ]
        }
      ]
    },
    {
      "cell_type": "markdown",
      "source": [
        "## ex) 각 열 (센서 위치)별 평균"
      ],
      "metadata": {
        "id": "fb9vLSex4XPM"
      }
    },
    {
      "cell_type": "code",
      "source": [
        "column_averages = np.mean(sensor_matrix, axis=0)  # axis=0: 행 방향으로 평균\n",
        "print(\"센서 위치별 평균:\", column_averages)"
      ],
      "metadata": {
        "colab": {
          "base_uri": "https://localhost:8080/"
        },
        "id": "d7NhxtRa4LzO",
        "outputId": "2c42f113-fd0a-4e60-fe80-658af273ded3"
      },
      "execution_count": 13,
      "outputs": [
        {
          "output_type": "stream",
          "name": "stdout",
          "text": [
            "센서 위치별 평균: [ 8.775  9.9   14.     8.7  ]\n"
          ]
        }
      ]
    },
    {
      "cell_type": "markdown",
      "source": [
        "\n",
        "## ex) 각 행 (방향)별 평균"
      ],
      "metadata": {
        "id": "ugaIGdgr4oLj"
      }
    },
    {
      "cell_type": "code",
      "source": [
        "row_averages = np.mean(sensor_matrix, axis=1)  # axis=1: 열 방향으로 평균\n",
        "print(\"방향별 평균:\", row_averages)\n",
        "print()"
      ],
      "metadata": {
        "colab": {
          "base_uri": "https://localhost:8080/"
        },
        "id": "ygRn7Lt94qzS",
        "outputId": "75c93fc6-f290-42bb-9ef6-890e3178aa06"
      },
      "execution_count": 14,
      "outputs": [
        {
          "output_type": "stream",
          "name": "stdout",
          "text": [
            "방향별 평균: [11.925  9.2   10.725  9.525]\n",
            "\n"
          ]
        }
      ]
    },
    {
      "cell_type": "markdown",
      "source": [
        "# ===== 6. GPS 좌표 처리 ====="
      ],
      "metadata": {
        "id": "5XmeAaex4yOM"
      }
    },
    {
      "cell_type": "markdown",
      "source": [
        "# 6-1. 위치 벡터"
      ],
      "metadata": {
        "id": "t4ZmDVwp45CP"
      }
    },
    {
      "cell_type": "code",
      "source": [
        " #6-1. 위치 벡터\n",
        "print(\"📊 6-1. 현재 위치와 목적지\")\n",
        "current_pos = np.array([127.123, 37.456])  # [경도, 위도]\n",
        "destination = np.array([127.145, 37.478])\n",
        "\n",
        "print(\"현재 위치:\", current_pos)\n",
        "print(\"목적지:\", destination)"
      ],
      "metadata": {
        "colab": {
          "base_uri": "https://localhost:8080/"
        },
        "id": "HluPhP-R4y0K",
        "outputId": "359a3e48-4716-4d04-f80f-9af107498414"
      },
      "execution_count": 15,
      "outputs": [
        {
          "output_type": "stream",
          "name": "stdout",
          "text": [
            "📊 6-1. 현재 위치와 목적지\n",
            "현재 위치: [127.123  37.456]\n",
            "목적지: [127.145  37.478]\n"
          ]
        }
      ]
    },
    {
      "cell_type": "markdown",
      "source": [
        "## ex) 이동 벡터 계산\n",
        "\n"
      ],
      "metadata": {
        "id": "Uc-WV-tE5B1l"
      }
    },
    {
      "cell_type": "code",
      "source": [
        "movement_vector = destination - current_pos\n",
        "print(\"이동 벡터:\", movement_vector)\n",
        "print(\"경도 이동:\", movement_vector[0])\n",
        "print(\"위도 이동:\", movement_vector[1])\n",
        "print()"
      ],
      "metadata": {
        "colab": {
          "base_uri": "https://localhost:8080/"
        },
        "id": "-KQLTo4g5EXI",
        "outputId": "8d0d59df-66c6-4423-97ce-a447d87534ac"
      },
      "execution_count": 16,
      "outputs": [
        {
          "output_type": "stream",
          "name": "stdout",
          "text": [
            "이동 벡터: [0.022 0.022]\n",
            "경도 이동: 0.02199999999999136\n",
            "위도 이동: 0.021999999999998465\n",
            "\n"
          ]
        }
      ]
    },
    {
      "cell_type": "markdown",
      "source": [
        "\n",
        "# 6-2. 거리 계산"
      ],
      "metadata": {
        "id": "spXcXFwS468h"
      }
    },
    {
      "cell_type": "code",
      "source": [
        "# 6-2. 거리 계산\n",
        "print(\"📊 6-2. 직선 거리 계산\")\n",
        "# 유클리드 거리 공식: sqrt((x2-x1)^2 + (y2-y1)^2)\n",
        "distance = np.sqrt(np.sum(movement_vector**2))\n",
        "print(\"직선 거리:\", distance)\n",
        "\n",
        "# 맨하탄 거리 (격자 도로에서 실제 이동 거리)\n",
        "manhattan_distance = np.sum(np.abs(movement_vector))\n",
        "print(\"맨하탄 거리:\", manhattan_distance)\n",
        "print()"
      ],
      "metadata": {
        "colab": {
          "base_uri": "https://localhost:8080/"
        },
        "id": "7Zfmbsb45Jyw",
        "outputId": "69a985d8-dbf3-4457-8dd0-f07ae81da32c"
      },
      "execution_count": 17,
      "outputs": [
        {
          "output_type": "stream",
          "name": "stdout",
          "text": [
            "📊 6-2. 직선 거리 계산\n",
            "직선 거리: 0.031112698372200896\n",
            "맨하탄 거리: 0.043999999999989825\n",
            "\n"
          ]
        }
      ]
    },
    {
      "cell_type": "markdown",
      "source": [
        "# ===== 7. 경로 생성 ====="
      ],
      "metadata": {
        "id": "ndOen9gw5SGB"
      }
    },
    {
      "cell_type": "markdown",
      "source": [
        "# 7-1. 직선 경로 포인트 생성"
      ],
      "metadata": {
        "id": "fjr2s7EE5YF2"
      }
    },
    {
      "cell_type": "code",
      "source": [
        "# 7-1. 직선 경로 포인트 생성\n",
        "print(\"📊 7-1. 자동 경로 생성\")\n",
        "num_waypoints = 8\n",
        "route_x = np.linspace(current_pos[0], destination[0], num_waypoints)\n",
        "route_y = np.linspace(current_pos[1], destination[1], num_waypoints)\n",
        "\n",
        "print(\"경로 X 좌표:\", route_x)\n",
        "print(\"경로 Y 좌표:\", route_y)"
      ],
      "metadata": {
        "colab": {
          "base_uri": "https://localhost:8080/"
        },
        "id": "9Kp9bSFs5Sg6",
        "outputId": "3c7189ed-7d90-4444-9bc5-97dc01ef919b"
      },
      "execution_count": 18,
      "outputs": [
        {
          "output_type": "stream",
          "name": "stdout",
          "text": [
            "📊 7-1. 자동 경로 생성\n",
            "경로 X 좌표: [127.123      127.12614286 127.12928571 127.13242857 127.13557143\n",
            " 127.13871429 127.14185714 127.145     ]\n",
            "경로 Y 좌표: [37.456      37.45914286 37.46228571 37.46542857 37.46857143 37.47171429\n",
            " 37.47485714 37.478     ]\n"
          ]
        }
      ]
    },
    {
      "cell_type": "markdown",
      "source": [
        "## ex) 좌표를 하나의 2D 배열로 결합"
      ],
      "metadata": {
        "id": "kDx5uHOv5bk6"
      }
    },
    {
      "cell_type": "code",
      "source": [
        "\n",
        "route_points = np.column_stack((route_x, route_y))\n",
        "print(\"경로 포인트 매트릭스:\")\n",
        "print(route_points)\n",
        "print(\"경로 모양:\", route_points.shape)\n",
        "print()"
      ],
      "metadata": {
        "colab": {
          "base_uri": "https://localhost:8080/"
        },
        "id": "rtOvQrg85cHx",
        "outputId": "3b5ca3d6-e789-44f8-c83f-187557014705"
      },
      "execution_count": 19,
      "outputs": [
        {
          "output_type": "stream",
          "name": "stdout",
          "text": [
            "경로 포인트 매트릭스:\n",
            "[[127.123       37.456     ]\n",
            " [127.12614286  37.45914286]\n",
            " [127.12928571  37.46228571]\n",
            " [127.13242857  37.46542857]\n",
            " [127.13557143  37.46857143]\n",
            " [127.13871429  37.47171429]\n",
            " [127.14185714  37.47485714]\n",
            " [127.145       37.478     ]]\n",
            "경로 모양: (8, 2)\n",
            "\n"
          ]
        }
      ]
    },
    {
      "cell_type": "markdown",
      "source": [
        "# 7-2. 각 구간별 거리 계산"
      ],
      "metadata": {
        "id": "YjITW8u95iF0"
      }
    },
    {
      "cell_type": "code",
      "source": [
        "# 7-2. 각 구간별 거리 계산\n",
        "print(\"📊 7-2. 구간별 이동 거리\")\n",
        "# 연속된 포인트 간 거리 계산\n",
        "segment_distances = []\n",
        "for i in range(len(route_points) - 1):\n",
        "    point1 = route_points[i]\n",
        "    point2 = route_points[i + 1]\n",
        "    segment_dist = np.sqrt(np.sum((point2 - point1)**2))\n",
        "    segment_distances.append(segment_dist)\n",
        "    print(f\"구간 {i+1}: {segment_dist:.6f}\")\n",
        "\n",
        "total_route_distance = np.sum(segment_distances)\n",
        "print(f\"총 경로 거리: {total_route_distance:.6f}\")\n",
        "print()"
      ],
      "metadata": {
        "colab": {
          "base_uri": "https://localhost:8080/"
        },
        "id": "OpylTL3n5ibk",
        "outputId": "0debe834-2ee9-4201-f04f-5c25b08b99c9"
      },
      "execution_count": 20,
      "outputs": [
        {
          "output_type": "stream",
          "name": "stdout",
          "text": [
            "📊 7-2. 구간별 이동 거리\n",
            "구간 1: 0.004445\n",
            "구간 2: 0.004445\n",
            "구간 3: 0.004445\n",
            "구간 4: 0.004445\n",
            "구간 5: 0.004445\n",
            "구간 6: 0.004445\n",
            "구간 7: 0.004445\n",
            "총 경로 거리: 0.031113\n",
            "\n"
          ]
        }
      ]
    },
    {
      "cell_type": "markdown",
      "source": [
        "# ===== 8. 실전 응용 - 장애물 회피 =====\n"
      ],
      "metadata": {
        "id": "OSO2Orxn5nbF"
      }
    },
    {
      "cell_type": "markdown",
      "source": [
        "# 8-1. 장애물 위치"
      ],
      "metadata": {
        "id": "2gNIwvEO5nxw"
      }
    },
    {
      "cell_type": "code",
      "source": [
        "# 8-1. 장애물 위치\n",
        "print(\"📊 8-1. 장애물 감지 및 분석\")\n",
        "obstacles = np.array([\n",
        "    [127.130, 37.460],  # 장애물 1\n",
        "    [127.135, 37.465],  # 장애물 2\n",
        "    [127.140, 37.470]   # 장애물 3\n",
        "])\n",
        "\n",
        "print(\"감지된 장애물 위치:\")\n",
        "print(obstacles)"
      ],
      "metadata": {
        "colab": {
          "base_uri": "https://localhost:8080/"
        },
        "id": "OfCb2TWE5oIu",
        "outputId": "67f0cc5a-9a67-41a9-add4-248bc06485db"
      },
      "execution_count": 21,
      "outputs": [
        {
          "output_type": "stream",
          "name": "stdout",
          "text": [
            "📊 8-1. 장애물 감지 및 분석\n",
            "감지된 장애물 위치:\n",
            "[[127.13   37.46 ]\n",
            " [127.135  37.465]\n",
            " [127.14   37.47 ]]\n"
          ]
        }
      ]
    },
    {
      "cell_type": "markdown",
      "source": [
        "## ex) 현재 위치에서 각 장애물까지의 거리"
      ],
      "metadata": {
        "id": "AsOjgFcr5yt0"
      }
    },
    {
      "cell_type": "code",
      "source": [
        "obstacle_distances = []\n",
        "for i, obstacle in enumerate(obstacles):\n",
        "    dist = np.sqrt(np.sum((obstacle - current_pos)**2))\n",
        "    obstacle_distances.append(dist)\n",
        "    print(f\"장애물 {i+1}까지 거리: {dist:.6f}\")"
      ],
      "metadata": {
        "colab": {
          "base_uri": "https://localhost:8080/"
        },
        "id": "IcqAh7ZH5zad",
        "outputId": "6f56edbd-0ad5-486d-efd2-c8cd9fb60c25"
      },
      "execution_count": 22,
      "outputs": [
        {
          "output_type": "stream",
          "name": "stdout",
          "text": [
            "장애물 1까지 거리: 0.008062\n",
            "장애물 2까지 거리: 0.015000\n",
            "장애물 3까지 거리: 0.022023\n"
          ]
        }
      ]
    },
    {
      "cell_type": "markdown",
      "source": [
        "## ex)  가장 가까운 장애물 찾기"
      ],
      "metadata": {
        "id": "HbLqGty957Pr"
      }
    },
    {
      "cell_type": "code",
      "source": [
        "closest_obstacle_index = np.argmin(obstacle_distances)\n",
        "closest_distance = obstacle_distances[closest_obstacle_index]\n",
        "print(f\"가장 가까운 장애물: {closest_obstacle_index+1}번 (거리: {closest_distance:.6f})\")\n",
        "print()"
      ],
      "metadata": {
        "colab": {
          "base_uri": "https://localhost:8080/"
        },
        "id": "WXinq0on58SA",
        "outputId": "011378a7-8ffd-452a-b1ef-533d699e866c"
      },
      "execution_count": 23,
      "outputs": [
        {
          "output_type": "stream",
          "name": "stdout",
          "text": [
            "가장 가까운 장애물: 1번 (거리: 0.008062)\n",
            "\n"
          ]
        }
      ]
    },
    {
      "cell_type": "markdown",
      "source": [
        "# 8-2. 안전 반경 체크"
      ],
      "metadata": {
        "id": "3Y3fSE8e6ENM"
      }
    },
    {
      "cell_type": "code",
      "source": [
        "# 8-2. 안전 반경 체크\n",
        "print(\"📊 8-2. 안전 반경 체크\")\n",
        "safety_radius = 0.005  # 대략 500m 정도\n",
        "dangerous_obstacles = []\n",
        "\n",
        "for i, dist in enumerate(obstacle_distances):\n",
        "    if dist <= safety_radius:\n",
        "        dangerous_obstacles.append(i+1)\n",
        "        print(f\"⚠️ 장애물 {i+1}: 위험 구역 (거리: {dist:.6f})\")\n",
        "    else:\n",
        "        print(f\"✅ 장애물 {i+1}: 안전 (거리: {dist:.6f})\")\n",
        "\n",
        "if dangerous_obstacles:\n",
        "    print(f\"총 {len(dangerous_obstacles)}개 장애물이 위험 구역에 있습니다!\")\n",
        "else:\n",
        "    print(\"모든 장애물이 안전 거리에 있습니다.\")\n",
        "print()\n",
        "\n",
        "print(\"🎓 NumPy 기초 학습 완료!\")\n",
        "print(\"📚 학습한 내용:\")\n",
        "print(\"   ✅ 배열 생성 및 기본 연산\")\n",
        "print(\"   ✅ 통계 함수 (평균, 최대, 최소 등)\")\n",
        "print(\"   ✅ 조건부 필터링 (위험 감지)\")\n",
        "print(\"   ✅ 2D 배열 (센서 매트릭스)\")\n",
        "print(\"   ✅ GPS 좌표 처리\")\n",
        "print(\"   ✅ 경로 생성 및 거리 계산\")\n",
        "print(\"   ✅ 장애물 감지 및 안전 반경 체크\")\n",
        "print(\"\\n🚗 다음은 Pandas로 주행 데이터를 분석해보겠습니다!\")\n",
        "print(\"=\"*60)"
      ],
      "metadata": {
        "colab": {
          "base_uri": "https://localhost:8080/"
        },
        "id": "CvA6dNE76EoS",
        "outputId": "270e5c1b-adcc-4820-d4ca-8ac94ee79a11"
      },
      "execution_count": 24,
      "outputs": [
        {
          "output_type": "stream",
          "name": "stdout",
          "text": [
            "📊 8-2. 안전 반경 체크\n",
            "✅ 장애물 1: 안전 (거리: 0.008062)\n",
            "✅ 장애물 2: 안전 (거리: 0.015000)\n",
            "✅ 장애물 3: 안전 (거리: 0.022023)\n",
            "모든 장애물이 안전 거리에 있습니다.\n",
            "\n",
            "🎓 NumPy 기초 학습 완료!\n",
            "📚 학습한 내용:\n",
            "   ✅ 배열 생성 및 기본 연산\n",
            "   ✅ 통계 함수 (평균, 최대, 최소 등)\n",
            "   ✅ 조건부 필터링 (위험 감지)\n",
            "   ✅ 2D 배열 (센서 매트릭스)\n",
            "   ✅ GPS 좌표 처리\n",
            "   ✅ 경로 생성 및 거리 계산\n",
            "   ✅ 장애물 감지 및 안전 반경 체크\n",
            "\n",
            "🚗 다음은 Pandas로 주행 데이터를 분석해보겠습니다!\n",
            "============================================================\n"
          ]
        }
      ]
    }
  ]
}